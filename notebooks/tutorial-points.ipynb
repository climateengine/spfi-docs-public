{
 "cells": [
  {
   "cell_type": "markdown",
   "id": "6af2cbfc-50a6-4345-9227-497dea4047e8",
   "metadata": {},
   "source": [
    "# Load point values\n",
    "\n",
    "This is a demo that queries a list of points and orders by risk according to Wildfire Risk based on the [Wildfire Forecast](https://data.spatiafi.com/dataset/36) dataset.  We start by loading our App Credentials, and then using the [point](https://docs.spatiafi.com/api/#operation/point_api_point__lon___lat__get) endpoint to fetch fire risk values at the points of interest.\n",
    "\n",
    "---\n",
    "\n",
    "Install `spatiafi` (if not already installed):"
   ]
  },
  {
   "cell_type": "code",
   "execution_count": null,
   "id": "4c5e33de-df46-4b4c-9e45-cef7d8234dbc",
   "metadata": {
    "tags": []
   },
   "outputs": [],
   "source": [
    "!sudo apt -y install libgeos-dev"
   ]
  },
  {
   "cell_type": "code",
   "execution_count": null,
   "id": "6a8b5300",
   "metadata": {},
   "outputs": [],
   "source": [
    "%pip install spatiafi cartopy xarray pandas"
   ]
  },
  {
   "cell_type": "code",
   "execution_count": null,
   "id": "0efe9431-453c-4ef8-915d-f98bd806c0c2",
   "metadata": {
    "tags": []
   },
   "outputs": [],
   "source": [
    "import cartopy.crs as ccrs\n",
    "import matplotlib.pyplot as plt\n",
    "import numpy as np\n",
    "import pandas as pd\n",
    "import spatiafi\n",
    "import xarray as xr"
   ]
  },
  {
   "cell_type": "code",
   "execution_count": null,
   "id": "9512aebd-413b-4779-854f-f51e6f30c1f3",
   "metadata": {
    "tags": []
   },
   "outputs": [],
   "source": [
    "session = spatiafi.get_session()"
   ]
  },
  {
   "cell_type": "code",
   "execution_count": null,
   "id": "7f8208a5-8ed6-4127-afb3-fe4bc245b349",
   "metadata": {
    "tags": []
   },
   "outputs": [],
   "source": [
    "session"
   ]
  },
  {
   "cell_type": "markdown",
   "id": "2555580f-c198-4fac-a75f-8594bd9919e5",
   "metadata": {
    "tags": []
   },
   "source": [
    "## Point Value\n",
    "This section takes a list of example asset locations (lats/lons) and queries the day 1 forecast of FWI at each location. This should give us an understanding of the near-term fire risk for our assets"
   ]
  },
  {
   "cell_type": "code",
   "execution_count": null,
   "id": "18de25de-eeab-4e9f-aad4-8ad0aeccde89",
   "metadata": {
    "tags": []
   },
   "outputs": [],
   "source": [
    "lon = [\"-104.18\", \"-92.88\", \"-113.46\", \"-122.33\", \"-74.00\", \"-89.44\", \"25.66\", \"137.41\"]\n",
    "lat = [\"55.48\", \"55.74\", \"56.99\", \"47.61\", \"40.71\", \"31.01\", \"23.41\", \"-24.57\"]\n",
    "\n",
    "values = np.zeros(len(lat))\n",
    "\n",
    "for i in range(len(lon)):\n",
    "    url = \"https://api.spatiafi.com/api/point/\" + lon[i] + \",\" + lat[i]\n",
    "\n",
    "    query = {\"item_id\": \"ce-cfsv2-era5-fwi-forecast-day01\", \"bidx\": \"1\"}\n",
    "\n",
    "    not_done = True\n",
    "    while not_done:\n",
    "        response = session.get(url, params=query)\n",
    "\n",
    "        if response.status_code != int(500):\n",
    "            not_done = False\n",
    "            data = response.json()\n",
    "            values[i] = data[\"values\"][0]\n",
    "\n",
    "    print(data)"
   ]
  },
  {
   "cell_type": "markdown",
   "id": "20288d71-fef6-48ce-a675-99128839f797",
   "metadata": {},
   "source": [
    "We now plot these values so that we can more clearly see which assets are of greatest risk."
   ]
  },
  {
   "cell_type": "code",
   "execution_count": null,
   "id": "0d5a7067-6ac3-4d5f-b9b3-2ea99c6b1d39",
   "metadata": {
    "tags": []
   },
   "outputs": [],
   "source": [
    "lon_double = [float(x) for x in lon]\n",
    "lat_double = [float(x) for x in lat]\n",
    "\n",
    "data = xr.DataArray(values, dims=(\"points\",), coords={\"points\": range(len(values))})\n",
    "\n",
    "# Add latitude and longitude as coordinates\n",
    "data = data.assign_coords(\n",
    "    latitude=(\"points\", lat_double), longitude=(\"points\", lon_double)\n",
    ")\n",
    "\n",
    "fig = plt.figure(figsize=(10, 6))\n",
    "ax = plt.axes(projection=ccrs.PlateCarree())\n",
    "\n",
    "# Plot the data using scatter plot\n",
    "plt.scatter(\n",
    "    data[\"longitude\"],\n",
    "    data[\"latitude\"],\n",
    "    c=data,\n",
    "    cmap=\"viridis\",\n",
    "    transform=ccrs.PlateCarree(),\n",
    ")\n",
    "\n",
    "# Add coastlines\n",
    "ax.coastlines()\n",
    "\n",
    "# Show the plot\n",
    "plt.show()"
   ]
  },
  {
   "cell_type": "markdown",
   "id": "021ebcf4-8047-44c3-af64-66f3ff4de135",
   "metadata": {},
   "source": [
    "We can see that our assets with the largest FWI June 12th forecast are in Australia and North Africa, as should be expected. There are also relatively high values in parts of Canada, consistent with the large wildfires over the past couple of weeks."
   ]
  },
  {
   "cell_type": "code",
   "execution_count": null,
   "id": "1b1714f6-60c2-4a63-afd4-a9bd5ed66384",
   "metadata": {
    "tags": []
   },
   "outputs": [],
   "source": [
    "df = pd.DataFrame({\"Lon\": lon, \"Lat\": lat, \"FWI\": values})\n",
    "\n",
    "df.sort_values(\"FWI\", ascending=False)"
   ]
  },
  {
   "cell_type": "markdown",
   "id": "b9ce4d04-4b3d-4d6c-a9cf-660e56851864",
   "metadata": {},
   "source": [
    "We can also easily save the data out as a pandas DataFrame, allowing us to do things like sort by FWI to see the assets at greatest risk."
   ]
  },
  {
   "cell_type": "markdown",
   "id": "0b9fe792-f2a2-47e0-91e2-02397476e3be",
   "metadata": {},
   "source": [
    "## Point Values Over Time\n",
    "We now include an example that queries timeseries from the same point values. This function can be used to, for example, track trends in the FWI to see if there will be assets we should be concerned about in a few days' time. Here we use it to query the next 5 days of data at each location and calculate the trend to see if there is a notable increase or decrease."
   ]
  },
  {
   "cell_type": "code",
   "execution_count": null,
   "id": "053cc362-c45f-4db0-be42-9073240d1d38",
   "metadata": {
    "tags": []
   },
   "outputs": [],
   "source": [
    "values_array = np.zeros((5, len(lat)))\n",
    "values_one = np.zeros(5)\n",
    "slopes = np.zeros(len(lat))\n",
    "\n",
    "for i in range(len(lon)):\n",
    "    url = \"https://api.spatiafi.com/api/timeseries/point/\" + lon[i] + \",\" + lat[i]\n",
    "\n",
    "    query = {\n",
    "        \"coll_id\": \"climate-engine-cfsv2-era5-land-fire-weather-index-forecasts\",\n",
    "        \"datetime\": \"2023-07-17/2023-07-23\",\n",
    "        \"bidx\": \"1\",\n",
    "    }\n",
    "\n",
    "    not_done = True\n",
    "    while not_done:\n",
    "        response = session.get(url, params=query)\n",
    "\n",
    "        if response.status_code != int(500):\n",
    "            not_done = False\n",
    "            data = response.json()\n",
    "\n",
    "    index = 4\n",
    "    for key in data:\n",
    "        values_one[index] = data[key][\"values\"][0]\n",
    "        index = index - 1\n",
    "\n",
    "    slopes[i] = np.polyfit(np.linspace(1, 5, 5), values_one, 1)[0]\n",
    "\n",
    "    # Convert the list of values to a NumPy array\n",
    "    values_array[:, i] = np.array(values_one)\n",
    "\n",
    "    print(i)"
   ]
  },
  {
   "cell_type": "code",
   "execution_count": null,
   "id": "4b4a730e-4b96-4adb-8b7d-a70d7ce45d2d",
   "metadata": {},
   "outputs": [],
   "source": [
    "data = xr.DataArray(slopes, dims=(\"points\",), coords={\"points\": range(len(slopes))})\n",
    "\n",
    "# Add latitude and longitude as coordinates\n",
    "data = data.assign_coords(\n",
    "    latitude=(\"points\", lat_double), longitude=(\"points\", lon_double)\n",
    ")\n",
    "\n",
    "fig = plt.figure(figsize=(10, 6))\n",
    "ax = plt.axes(projection=ccrs.PlateCarree())\n",
    "\n",
    "# Plot the data using scatter plot\n",
    "plt.scatter(\n",
    "    data[\"longitude\"],\n",
    "    data[\"latitude\"],\n",
    "    c=data,\n",
    "    cmap=\"bwr\",\n",
    "    transform=ccrs.PlateCarree(),\n",
    ")\n",
    "\n",
    "# Add coastlines\n",
    "ax.coastlines()\n",
    "\n",
    "# Show the plot\n",
    "plt.show()"
   ]
  },
  {
   "cell_type": "markdown",
   "id": "eb8d9feb-01f4-4c75-9c09-bdf323888234",
   "metadata": {},
   "source": [
    "From this, we can see that some of our assets (such as the east-most point in Canada and in the Pacific Northwest) indicate positive trends in their FWI (i.e., an upcoming increase in fire risk), while others exhibit a decline."
   ]
  },
  {
   "cell_type": "code",
   "execution_count": null,
   "id": "09995678-80e2-453a-bde7-b54cc157d6cb",
   "metadata": {},
   "outputs": [],
   "source": []
  }
 ],
 "metadata": {
  "kernelspec": {
   "display_name": "Python 3 (ipykernel)",
   "language": "python",
   "name": "python3"
  },
  "language_info": {
   "codemirror_mode": {
    "name": "ipython",
    "version": 3
   },
   "file_extension": ".py",
   "mimetype": "text/x-python",
   "name": "python",
   "nbconvert_exporter": "python",
   "pygments_lexer": "ipython3",
   "version": "3.10.6"
  }
 },
 "nbformat": 4,
 "nbformat_minor": 5
}
