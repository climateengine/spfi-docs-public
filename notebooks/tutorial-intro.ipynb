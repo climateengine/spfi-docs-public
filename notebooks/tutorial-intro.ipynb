{
 "cells": [
  {
   "cell_type": "markdown",
   "id": "3c98cbed-37c5-4fd7-82a9-9a2547aed7e1",
   "metadata": {
    "tags": []
   },
   "source": [
    "# Tutorial Intro\n",
    "\n",
    "These tutorials demonstrate how to use the SpatiaFi API to run common geospatial queries.\n",
    "The pages you see here are generated from Jupyter Notebooks, and all source code\n",
    "is made freely available at https://github.com/climateengine/spfi-docs-public\n",
    "\n",
    "## Authentication\n",
    "\n",
    "We assume that you have successfully authenticated to the API, generated [App Credentials](https://docs.spatiafi.com/pages/authentication/),\n",
    "and have set the system environment variables `CLIENT_ID` and `CLIENT_SECRET`.\n",
    "\n",
    "If you have not set the environment variables, you can do so with the following code:\n",
    "\n",
    "```python\n",
    "import os\n",
    "\n",
    "os.environ['SPATIAFI_CLIENT_ID'] = \"your-client-id\"\n",
    "os.environ['SPATIAFI_CLIENT_SECRET'] = \"your-client-secret\"\n",
    "```\n",
    "\n",
    "Once we have our `CLIENT_ID` and `CLIENT_SECRET` set, the first thing we will do in every notebook is initialize our\n",
    "`session` used to communicate with the API.  This `session` will handle refreshing access tokens automatically if they expire.\n"
   ]
  },
  {
   "cell_type": "code",
   "execution_count": null,
   "id": "6ed5c59f-04fb-4e85-871c-3083b27b88e6",
   "metadata": {
    "tags": []
   },
   "outputs": [],
   "source": [
    "!pip install requests authlib"
   ]
  },
  {
   "cell_type": "code",
   "execution_count": null,
   "id": "2c682d9c-c50c-4698-96b5-510bc8ad29a9",
   "metadata": {
    "tags": []
   },
   "outputs": [],
   "source": [
    "import os\n",
    "from pprint import pprint\n",
    "\n",
    "from authlib.integrations.requests_client import OAuth2Session\n",
    "from authlib.oauth2.rfc7523 import ClientSecretJWT"
   ]
  },
  {
   "cell_type": "code",
   "execution_count": null,
   "id": "bcdfd47a-77ee-419e-8415-2a68ec9ec34a",
   "metadata": {
    "tags": []
   },
   "outputs": [],
   "source": [
    "def get_session():\n",
    "    client = OAuth2Session(\n",
    "        os.environ[\"SPATIAFI_CLIENT_ID\"],\n",
    "        os.environ[\"SPATIAFI_CLIENT_SECRET\"],\n",
    "        token_endpoint=\"https://auth.spatiafi.com/api/v1/auth/jwt/token\",\n",
    "        grant_type=\"client_credentials\",\n",
    "        token_endpoint_auth_method=ClientSecretJWT(\n",
    "            \"https://auth.spatiafi.com/api/v1/auth/jwt/token\"\n",
    "        ),\n",
    "    )\n",
    "    client.fetch_token()\n",
    "    return client\n",
    "\n",
    "\n",
    "session = get_session()\n",
    "print(\"Getting an access_token with client_id and client_secret:\\n\")\n",
    "print(session.fetch_token())"
   ]
  },
  {
   "cell_type": "markdown",
   "id": "4844610a-7f57-479c-9af4-b2190f628f74",
   "metadata": {},
   "source": [
    "## Use the `session` to make calls to the API"
   ]
  },
  {
   "cell_type": "code",
   "execution_count": null,
   "id": "706e65bc-9f6f-48fd-811a-ebd6f03646cc",
   "metadata": {
    "tags": []
   },
   "outputs": [],
   "source": [
    "url = \"https://api.spatiafi.com/api/info\"\n",
    "\n",
    "query = {\"item_id\": \"ce-wildfire-risk-static-us-and-canada-v3.0\"}\n",
    "\n",
    "response = session.get(url, params=query)\n",
    "\n",
    "data = response.json()\n",
    "pprint(data)"
   ]
  },
  {
   "cell_type": "code",
   "execution_count": null,
   "id": "0734ad96-5e76-4f36-96e8-ff8f5e810020",
   "metadata": {},
   "outputs": [],
   "source": []
  },
  {
   "cell_type": "code",
   "execution_count": null,
   "id": "8a2e21ff-1623-4184-9bf4-ca24b5c854c2",
   "metadata": {},
   "outputs": [],
   "source": []
  }
 ],
 "metadata": {
  "kernelspec": {
   "display_name": "Python 3 (ipykernel)",
   "language": "python",
   "name": "python3"
  },
  "language_info": {
   "codemirror_mode": {
    "name": "ipython",
    "version": 3
   },
   "file_extension": ".py",
   "mimetype": "text/x-python",
   "name": "python",
   "nbconvert_exporter": "python",
   "pygments_lexer": "ipython3",
   "version": "3.10.6"
  }
 },
 "nbformat": 4,
 "nbformat_minor": 5
}
