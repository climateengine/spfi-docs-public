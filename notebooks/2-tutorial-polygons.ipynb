{
 "cells": [
  {
   "cell_type": "markdown",
   "id": "5acb40df-8cc2-4980-9820-49465a95fa4a",
   "metadata": {},
   "source": [
    "# Load polygon values\n",
    "\n",
    "This is a demo that queries a polygon and evaluates near- and long-term risks to extreme heat based on the future [Extreme Heat](https://data.spatiafi.com/dataset/13) datasets.  We start by loading our App Credentials, and then using the [geojson statistics](https://docs.spatiafi.com/api/#operation/geojson_statistics_api_statistics_post) endpoint to fetch extreme heat risk values at the points of interest.\n",
    "\n",
    "---\n",
    "\n",
    "Install `spatiafi` (if not already installed):"
   ]
  },
  {
   "cell_type": "code",
   "execution_count": null,
   "id": "204bed5e-c505-423d-8b19-2de0065d6a08",
   "metadata": {
    "tags": []
   },
   "outputs": [],
   "source": [
    "!sudo apt -y install libgeos-dev"
   ]
  },
  {
   "cell_type": "code",
   "execution_count": null,
   "id": "4ee5fa91",
   "metadata": {},
   "outputs": [],
   "source": [
    "%pip install --upgrade spatiafi cartopy xarray"
   ]
  },
  {
   "cell_type": "code",
   "execution_count": null,
   "id": "b82190c3-9602-46af-83cd-72fcf88d7d93",
   "metadata": {
    "tags": []
   },
   "outputs": [],
   "source": [
    "import numpy as np\n",
    "import spatiafi"
   ]
  },
  {
   "cell_type": "code",
   "execution_count": null,
   "id": "1091c4ae-9f1e-42c9-95e9-8f6c851f6360",
   "metadata": {
    "tags": []
   },
   "outputs": [],
   "source": [
    "session = spatiafi.get_session()"
   ]
  },
  {
   "cell_type": "code",
   "execution_count": null,
   "id": "0f8d9b2d-247d-4527-aab4-0f68a63158c0",
   "metadata": {
    "tags": []
   },
   "outputs": [],
   "source": [
    "session"
   ]
  },
  {
   "cell_type": "markdown",
   "id": "6f802d7e-2f59-4aa5-8558-298c4c96e9e6",
   "metadata": {},
   "source": [
    "## Polygon"
   ]
  },
  {
   "cell_type": "code",
   "execution_count": null,
   "id": "44ffbe16-05a7-43c2-a14d-a5748cf427cc",
   "metadata": {
    "tags": []
   },
   "outputs": [],
   "source": [
    "url = \"https://api.spatiafi.com/api/statistics\"\n",
    "\n",
    "params = {\n",
    "    \"item_id\": \"ce-extreme-heat-risk-projection-global-v1.0-ssp585-2020\",\n",
    "    \"bidx\": \"1\",\n",
    "}\n",
    "\n",
    "# North Saudi Arabia\n",
    "payload = {\n",
    "    \"type\": \"Feature\",\n",
    "    \"properties\": {},\n",
    "    \"geometry\": {\n",
    "        \"coordinates\": [\n",
    "            [\n",
    "                [31.76491069149293, 32.29986592075784],\n",
    "                [31.76491069149293, 23.092931581000542],\n",
    "                [51.58140483659537, 23.092931581000542],\n",
    "                [51.58140483659537, 32.29986592075784],\n",
    "                [31.76491069149293, 32.29986592075784],\n",
    "            ]\n",
    "        ],\n",
    "        \"type\": \"Polygon\",\n",
    "    },\n",
    "}\n",
    "\n",
    "# `POST` the request using our `session` object, which will automatically handle authentication.\n",
    "response = session.post(url, json=payload, params=params)\n",
    "\n",
    "data = response.json()\n",
    "print(data)"
   ]
  },
  {
   "cell_type": "markdown",
   "id": "92e9f224-8ce8-4907-b29d-f2b80af5ed65",
   "metadata": {},
   "source": [
    "## Polygon Timeseries"
   ]
  },
  {
   "cell_type": "code",
   "execution_count": null,
   "id": "cd9c01a0-3fc5-45de-8c87-47177fdbfbcf",
   "metadata": {
    "tags": []
   },
   "outputs": [],
   "source": [
    "url = \"https://api.spatiafi.com/api/timeseries/statistics\"\n",
    "\n",
    "params = {\n",
    "    \"coll_id\": \"spatiafi-extreme-heat-risk-projections-global-v1.0-ssp585\",\n",
    "    \"datetime\": \"2020/2100\",\n",
    "    \"bidx\": \"1\",\n",
    "}\n",
    "\n",
    "# North Saudi Arabia\n",
    "payload = {\n",
    "    \"type\": \"FeatureCollection\",\n",
    "    \"features\": [\n",
    "        {\n",
    "            \"type\": \"Feature\",\n",
    "            \"geometry\": {\n",
    "                \"coordinates\": [\n",
    "                    [\n",
    "                        [31.76491069149293, 32.29986592075784],\n",
    "                        [31.76491069149293, 23.092931581000542],\n",
    "                        [51.58140483659537, 23.092931581000542],\n",
    "                        [51.58140483659537, 32.29986592075784],\n",
    "                        [31.76491069149293, 32.29986592075784],\n",
    "                    ]\n",
    "                ],\n",
    "                \"type\": \"Polygon\",\n",
    "            },\n",
    "            \"properties\": {},\n",
    "            \"id\": 0,\n",
    "        }\n",
    "    ],\n",
    "}\n",
    "\n",
    "# `POST` the request using our `session` object, which will automatically handle authentication.\n",
    "response = session.post(url, json=payload, params=params)\n",
    "response.raise_for_status()\n",
    "\n",
    "data = response.json()\n",
    "print(data)"
   ]
  },
  {
   "cell_type": "code",
   "execution_count": null,
   "id": "3ab2b58e-6f85-43b2-ad77-aa49a49255c3",
   "metadata": {
    "tags": []
   },
   "outputs": [],
   "source": [
    "# Access the features dictionary\n",
    "features = data[\"features\"]\n",
    "\n",
    "# Extract the mean values for each decade\n",
    "decades = []\n",
    "means = []\n",
    "\n",
    "for feature in features:\n",
    "    properties = feature[\"properties\"]\n",
    "    statistics = properties[\"statistics\"]\n",
    "\n",
    "    for date, stats in statistics.items():\n",
    "        decade = int(date[:4])\n",
    "        mean = stats[\"mean\"]\n",
    "\n",
    "        decades.append(decade)\n",
    "        means.append(mean)\n",
    "\n",
    "# Convert lists to NumPy array\n",
    "decades = np.array(decades)\n",
    "means = np.array(means)\n",
    "\n",
    "# Print the arrays\n",
    "print(\"Decades:\", np.flipud(decades))\n",
    "print(\"Means:\", np.flipud(means))"
   ]
  },
  {
   "cell_type": "markdown",
   "id": "7e1374f9-e780-4875-b0a4-ec95dac70628",
   "metadata": {},
   "source": [
    "So the extreme heat index in this region of Saudi Arabia is expected to more than triple by 2090 under a pessimistic emissions scenario."
   ]
  },
  {
   "cell_type": "code",
   "execution_count": null,
   "id": "6e51b26d-0b24-44ce-9bf4-3b973fc9344b",
   "metadata": {},
   "outputs": [],
   "source": []
  }
 ],
 "metadata": {
  "kernelspec": {
   "display_name": "Python 3 (ipykernel)",
   "language": "python",
   "name": "python3"
  },
  "language_info": {
   "codemirror_mode": {
    "name": "ipython",
    "version": 3
   },
   "file_extension": ".py",
   "mimetype": "text/x-python",
   "name": "python",
   "nbconvert_exporter": "python",
   "pygments_lexer": "ipython3",
   "version": "3.10.6"
  }
 },
 "nbformat": 4,
 "nbformat_minor": 5
}
