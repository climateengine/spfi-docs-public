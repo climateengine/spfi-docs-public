{
 "cells": [
  {
   "cell_type": "markdown",
   "id": "2f4a739c",
   "metadata": {},
   "source": [
    "# Preliminaries"
   ]
  },
  {
   "cell_type": "markdown",
   "id": "a82e0bbb",
   "metadata": {},
   "source": [
    "## Authentication"
   ]
  },
  {
   "cell_type": "markdown",
   "id": "9a0e26e9",
   "metadata": {},
   "source": [
    "### Get temporary access token"
   ]
  },
  {
   "cell_type": "markdown",
   "id": "7ea6f2b8",
   "metadata": {},
   "source": [
    "In order to get an access token, we will send a POST request to /api/v1/auth/jwt/token endpoint with our username and password and grant_type=password as form fields in the body.\n",
    "\n",
    "(If you get a 401 Unauthorized response for the sections below because the access token is expired, you can renew it by re-running the cell below)"
   ]
  },
  {
   "cell_type": "code",
   "execution_count": null,
   "id": "de3cdaf9",
   "metadata": {},
   "outputs": [],
   "source": [
    "import ee\n",
    "import requests\n",
    "from authlib.integrations.requests_client import OAuth2Session\n",
    "from authlib.oauth2.rfc7523 import ClientSecretJWT\n",
    "\n",
    "username = \"ksa@climateengine.com\"\n",
    "password = \"\"\n",
    "\n",
    "body = {\"grant_type\": \"password\", \"username\": username, \"password\": password}\n",
    "# note that we are using data= parameter instead of json=, because this endpoint expects x-www-form-urlencoded body\n",
    "response = requests.post(\n",
    "    \"https://auth.climateengine.com/api/v1/auth/jwt/token\", data=body\n",
    ")\n",
    "response_data = response.json()\n",
    "print(f\"status: {response.status_code}\")\n",
    "print(response_data)\n",
    "\n",
    "access_token = response_data[\"access_token\"]"
   ]
  },
  {
   "cell_type": "markdown",
   "id": "0ef01d85",
   "metadata": {},
   "source": [
    "### Test authentication by accessing a protected endpoint"
   ]
  },
  {
   "cell_type": "code",
   "execution_count": null,
   "id": "c058838f",
   "metadata": {},
   "outputs": [],
   "source": [
    "headers = {\"Authorization\": \"Bearer \" + access_token}\n",
    "response = requests.get(\n",
    "    \"https://auth.climateengine.com/api/v1/users/me\", headers=headers\n",
    ")\n",
    "print(f\"status: {response.status_code}\")\n",
    "print(response.json())"
   ]
  },
  {
   "cell_type": "markdown",
   "id": "0004dbc4",
   "metadata": {},
   "source": [
    "## Create an OAuth2 Client and use it to obtain access tokens silently with authlib and requests"
   ]
  },
  {
   "cell_type": "markdown",
   "id": "519d8cac",
   "metadata": {},
   "source": [
    "In order to create a client, we do an empty POST request to /api/v1/clients endpoint. client_secret is only shown during client creation and can't be accessed later, so make sure to save it somewhere safe."
   ]
  },
  {
   "cell_type": "code",
   "execution_count": null,
   "id": "00b1a66a",
   "metadata": {},
   "outputs": [],
   "source": [
    "response = requests.post(\n",
    "    \"https://auth.climateengine.com/api/v1/clients/\", headers=headers\n",
    ")\n",
    "response_data = response.json()\n",
    "print(f\"status: {response.status_code}\")\n",
    "print(response_data)\n",
    "\n",
    "client_id = response_data[\"client_id\"]\n",
    "client_secret = response_data[\"client_secret\"]"
   ]
  },
  {
   "cell_type": "markdown",
   "id": "354e1b47",
   "metadata": {},
   "source": [
    "### Create an authlib client"
   ]
  },
  {
   "cell_type": "markdown",
   "id": "d33eff6c",
   "metadata": {},
   "source": [
    "The above client_id and client_secret can be used with authlib. The authlib client will automatically refresh the access tokens if they expire.\n",
    "\n",
    "Note that authlib is just one choice of Python HTTP client."
   ]
  },
  {
   "cell_type": "code",
   "execution_count": null,
   "id": "73408e22",
   "metadata": {},
   "outputs": [],
   "source": [
    "token_endpoint = \"https://auth.climateengine.com/api/v1/auth/jwt/token\"\n",
    "\n",
    "\n",
    "def client_secret_jwt_client():\n",
    "    client = OAuth2Session(\n",
    "        client_id,\n",
    "        client_secret,\n",
    "        token_endpoint=token_endpoint,\n",
    "        grant_type=\"client_credentials\",\n",
    "        token_endpoint_auth_method=ClientSecretJWT(token_endpoint),\n",
    "    )\n",
    "    client.fetch_token()\n",
    "    return client\n",
    "\n",
    "\n",
    "client = client_secret_jwt_client()\n",
    "print(\"Getting an access_token with client_secret_jwt...\")\n",
    "print(client.fetch_token())"
   ]
  },
  {
   "cell_type": "markdown",
   "id": "dcdb1054",
   "metadata": {},
   "source": [
    "## Raster exports"
   ]
  },
  {
   "cell_type": "code",
   "execution_count": null,
   "id": "e987658c",
   "metadata": {},
   "outputs": [],
   "source": [
    "# ee.Authenticate()\n",
    "ee.Initialize(project=\"my-image-assets-342021\")"
   ]
  },
  {
   "cell_type": "code",
   "execution_count": null,
   "id": "b45883fa",
   "metadata": {},
   "outputs": [],
   "source": [
    "# Define remaining parameters for API call and store as dictionary\n",
    "dataset = \"LANDSAT_SR\"\n",
    "variable = \"NDVI\"\n",
    "temporal_statistic = \"median\"\n",
    "start_date = \"2020-11-01\"\n",
    "end_date = \"2021-04-01\"\n",
    "bounding_box = [26.0820, 43.1627, 26.5862, 43.7892]\n",
    "\n",
    "# No need to include an extension on the export_filename below, .tif will be appended automatically.\n",
    "bucket_name = \"ksa-sample-bucket\"\n",
    "export_filename = \"landsat_ndvi_20201101_20210401_median\"\n",
    "\n",
    "# Set up parameters dictionary for API call\n",
    "params = {\n",
    "    \"dataset\": dataset,\n",
    "    \"variable\": variable,\n",
    "    \"temporal_statistic\": temporal_statistic,\n",
    "    \"start_date\": start_date,\n",
    "    \"end_date\": end_date,\n",
    "    \"bounding_box\": f\"{bounding_box}\",\n",
    "    \"export_path\": f\"{bucket_name}/{export_filename}\",\n",
    "}"
   ]
  },
  {
   "cell_type": "code",
   "execution_count": null,
   "id": "3ece7790",
   "metadata": {},
   "outputs": [],
   "source": [
    "response = client.get(\n",
    "    \"https://api.climateengine.net/v1/raster/export/values\", params=params\n",
    ")\n",
    "export_response = response.json()\n",
    "print(export_response)"
   ]
  },
  {
   "cell_type": "code",
   "execution_count": null,
   "id": "de8fbfbd",
   "metadata": {},
   "outputs": [],
   "source": [
    "task_id = export_response[\"task_response\"][\"id\"]\n",
    "print(f\"Processing task ID: {task_id}...\")\n",
    "print(ee.data.getTaskStatus(task_id))"
   ]
  }
 ],
 "metadata": {
  "kernelspec": {
   "display_name": "Python 3 (ipykernel)",
   "language": "python",
   "name": "python3"
  },
  "language_info": {
   "codemirror_mode": {
    "name": "ipython",
    "version": 3
   },
   "file_extension": ".py",
   "mimetype": "text/x-python",
   "name": "python",
   "nbconvert_exporter": "python",
   "pygments_lexer": "ipython3",
   "version": "3.8.10"
  }
 },
 "nbformat": 4,
 "nbformat_minor": 5
}
