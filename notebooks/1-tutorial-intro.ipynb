{
 "cells": [
  {
   "cell_type": "markdown",
   "id": "0",
   "metadata": {
    "tags": []
   },
   "source": [
    "# Tutorial Intro\n",
    "\n",
    "These tutorials demonstrate how to use the SpatiaFi API to run common geospatial queries.\n",
    "The pages you see here are generated from Jupyter Notebooks, and all source code\n",
    "is made freely available at https://github.com/climateengine/spfi-docs-public\n",
    "\n",
    "## Authentication\n",
    "\n",
    "In these tutorials we will use the open source [SpatiaFi Python Library](https://github.com/climateengine/py-spatiafi) which will create\n",
    "App Credentials, store them locally on your computer, and use them to authenticate to the API.\n",
    "\n",
    "The first time you create a `session` object the client will prompt you for the username and password. Subsequent calls to `spatiafi.get_session()` will not need you to manually enter anything (the library makes use of a file it creates on your local filesystem to allow you to not have to do this manual step everytime). \n",
    "\n",
    "If you would like to avoid using the SpatiaFi Python Library (advanced usage), you can use the [Authlib](https://docs.authlib.org/en/latest/index.html) library.\n",
    "See [Manual App Authentication](https://docs.spatiafi.com/tutorials/3-manual-app-authentication/) for an example."
   ]
  },
  {
   "cell_type": "code",
   "execution_count": null,
   "id": "1",
   "metadata": {
    "tags": []
   },
   "outputs": [],
   "source": [
    "%pip install --upgrade spatiafi"
   ]
  },
  {
   "cell_type": "code",
   "execution_count": null,
   "id": "2",
   "metadata": {
    "tags": []
   },
   "outputs": [],
   "source": [
    "from pprint import pprint\n",
    "\n",
    "import spatiafi"
   ]
  },
  {
   "cell_type": "markdown",
   "id": "3",
   "metadata": {},
   "source": [
    "### Use `spatiafi` to create an authenticated session"
   ]
  },
  {
   "cell_type": "code",
   "execution_count": null,
   "id": "4",
   "metadata": {},
   "outputs": [],
   "source": [
    "session = spatiafi.get_session()\n",
    "session"
   ]
  },
  {
   "cell_type": "markdown",
   "id": "5",
   "metadata": {},
   "source": [
    "## Make a request to the API"
   ]
  },
  {
   "cell_type": "code",
   "execution_count": null,
   "id": "6",
   "metadata": {
    "tags": []
   },
   "outputs": [],
   "source": [
    "url = \"https://api.spatiafi.com/api/info\"\n",
    "\n",
    "query = {\"item_id\": \"ce-wildfire-risk-static-us-and-canada-v3.0\"}\n",
    "\n",
    "response = session.get(url, params=query)\n",
    "\n",
    "data = response.json()\n",
    "pprint(data)"
   ]
  }
 ],
 "metadata": {
  "kernelspec": {
   "display_name": "Python 3 (ipykernel)",
   "language": "python",
   "name": "python3"
  },
  "language_info": {
   "codemirror_mode": {
    "name": "ipython",
    "version": 3
   },
   "file_extension": ".py",
   "mimetype": "text/x-python",
   "name": "python",
   "nbconvert_exporter": "python",
   "pygments_lexer": "ipython3",
   "version": "3.10.12"
  }
 },
 "nbformat": 4,
 "nbformat_minor": 5
}
