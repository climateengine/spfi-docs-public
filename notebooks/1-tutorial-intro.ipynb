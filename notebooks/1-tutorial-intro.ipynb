{
 "cells": [
  {
   "cell_type": "markdown",
   "id": "3c98cbed-37c5-4fd7-82a9-9a2547aed7e1",
   "metadata": {
    "tags": []
   },
   "source": [
    "# Tutorial Intro\n",
    "\n",
    "These tutorials demonstrate how to use the SpatiaFi API to run common geospatial queries.\n",
    "The pages you see here are generated from Jupyter Notebooks, and all source code\n",
    "is made freely available at https://github.com/climateengine/spfi-docs-public\n",
    "\n",
    "## Authentication\n",
    "\n",
    "In these tutorials we will use the open source [SpatiaFi Python Library](https://github.com/climateengine/py-spatiafi) which will create\n",
    "App Credentials, store them locally on your computer, and use them to authenticate to the API.\n",
    "\n",
    "If you would like to avoid using the SpatiaFi Python Library (advanced usage), you can use the [Authlib](https://docs.authlib.org/en/latest/index.html) library.\n",
    "See [Manual App Authentication](https://docs.spatiafi.com/tutorials/manual-app-authentication/) for an example."
   ]
  },
  {
   "cell_type": "code",
   "execution_count": null,
   "id": "6ed5c59f-04fb-4e85-871c-3083b27b88e6",
   "metadata": {
    "tags": []
   },
   "outputs": [],
   "source": [
    "%pip install --upgrade spatiafi"
   ]
  },
  {
   "cell_type": "code",
   "execution_count": null,
   "id": "bcdfd47a-77ee-419e-8415-2a68ec9ec34a",
   "metadata": {
    "tags": []
   },
   "outputs": [],
   "source": [
    "from pprint import pprint\n",
    "\n",
    "import spatiafi"
   ]
  },
  {
   "cell_type": "markdown",
   "id": "4844610a-7f57-479c-9af4-b2190f628f74",
   "metadata": {},
   "source": [
    "### Use `spatiafi` to create an authenticated session"
   ]
  },
  {
   "cell_type": "code",
   "execution_count": null,
   "id": "a380094a",
   "metadata": {},
   "outputs": [],
   "source": [
    "session = spatiafi.get_session()\n",
    "session"
   ]
  },
  {
   "cell_type": "markdown",
   "id": "f1b17acc",
   "metadata": {},
   "source": [
    "## Make a request to the API"
   ]
  },
  {
   "cell_type": "code",
   "execution_count": null,
   "id": "706e65bc-9f6f-48fd-811a-ebd6f03646cc",
   "metadata": {
    "tags": []
   },
   "outputs": [],
   "source": [
    "url = \"https://api.spatiafi.com/api/info\"\n",
    "\n",
    "query = {\"item_id\": \"ce-wildfire-risk-static-us-and-canada-v3.0\"}\n",
    "\n",
    "response = session.get(url, params=query)\n",
    "\n",
    "data = response.json()\n",
    "pprint(data)"
   ]
  }
 ],
 "metadata": {
  "kernelspec": {
   "display_name": "Python 3 (ipykernel)",
   "language": "python",
   "name": "python3"
  },
  "language_info": {
   "codemirror_mode": {
    "name": "ipython",
    "version": 3
   },
   "file_extension": ".py",
   "mimetype": "text/x-python",
   "name": "python",
   "nbconvert_exporter": "python",
   "pygments_lexer": "ipython3",
   "version": "3.10.6"
  }
 },
 "nbformat": 4,
 "nbformat_minor": 5
}
