{
 "cells": [
  {
   "cell_type": "markdown",
   "id": "0",
   "metadata": {},
   "source": [
    "# Load point values\n",
    "\n",
    "This is a demo that queries a list of points and orders by risk according to Wildfire Risk based on the [Historical Wildfire](https://data.spatiafi.com/dataset/spatiafi-wildfire-risk-static-global-v1.0) dataset.  We start by loading our App Credentials, and then using the [point](https://docs.spatiafi.com/api/#operation/point_api_point__lon___lat__get) endpoint to fetch fire risk values at the points of interest.\n",
    "\n",
    "---\n",
    "\n",
    "Install `spatiafi` (if not already installed):"
   ]
  },
  {
   "cell_type": "code",
   "execution_count": null,
   "id": "1",
   "metadata": {
    "tags": []
   },
   "outputs": [],
   "source": [
    "!sudo apt -y install libgeos-dev"
   ]
  },
  {
   "cell_type": "code",
   "execution_count": null,
   "id": "2",
   "metadata": {},
   "outputs": [],
   "source": [
    "%pip install --upgrade spatiafi cartopy xarray"
   ]
  },
  {
   "cell_type": "code",
   "execution_count": null,
   "id": "3",
   "metadata": {
    "tags": []
   },
   "outputs": [],
   "source": [
    "from datetime import datetime, timedelta\n",
    "\n",
    "import cartopy.crs as ccrs\n",
    "import matplotlib.pyplot as plt\n",
    "import numpy as np\n",
    "import pandas as pd\n",
    "import spatiafi\n",
    "import xarray as xr"
   ]
  },
  {
   "cell_type": "code",
   "execution_count": null,
   "id": "4",
   "metadata": {
    "tags": []
   },
   "outputs": [],
   "source": [
    "session = spatiafi.get_session()"
   ]
  },
  {
   "cell_type": "code",
   "execution_count": null,
   "id": "5",
   "metadata": {
    "tags": []
   },
   "outputs": [],
   "source": [
    "session"
   ]
  },
  {
   "cell_type": "markdown",
   "id": "6",
   "metadata": {
    "tags": []
   },
   "source": [
    "## Point Value\n",
    "This section takes a list of example asset locations (lats/lons) and queries the historical fire risk at each location. This should give us an understanding of the medium-term fire risk for our assets."
   ]
  },
  {
   "cell_type": "code",
   "execution_count": null,
   "id": "7",
   "metadata": {
    "tags": []
   },
   "outputs": [],
   "source": [
    "asset_coords = [\n",
    "    [\"-104.18\", \"55.48\"],\n",
    "    [\"-92.88\", \"55.74\"],\n",
    "    [\"-113.46\", \"56.99\"],\n",
    "    [\"-112.11\", \"46.31\"],\n",
    "    [\"5.55\", \"6.89\"],\n",
    "    [\"-89.44\", \"31.01\"],\n",
    "    [\"137.41\", \"-24.57\"],\n",
    "]\n",
    "\n",
    "values = np.zeros(len(asset_coords))\n",
    "\n",
    "for i in range(len(asset_coords)):\n",
    "    url = (\n",
    "        \"https://api.spatiafi.com/api/point/\"\n",
    "        + asset_coords[i][0]\n",
    "        + \",\"\n",
    "        + asset_coords[i][1]\n",
    "    )\n",
    "\n",
    "    query = {\"item_id\": \"ce-wildfire-risk-static-global-v1.0\", \"bidx\": \"1\"}\n",
    "\n",
    "    response = session.get(url, params=query)\n",
    "\n",
    "    data = response.json()\n",
    "    values[i] = data[\"values\"][0]\n",
    "\n",
    "    print(data)"
   ]
  },
  {
   "cell_type": "markdown",
   "id": "8",
   "metadata": {},
   "source": [
    "We now plot these values so that we can more clearly see which assets are of greatest risk."
   ]
  },
  {
   "cell_type": "code",
   "execution_count": null,
   "id": "9",
   "metadata": {
    "tags": []
   },
   "outputs": [],
   "source": [
    "# Convert asset coordinates to float\n",
    "lon_float = [float(coord[0]) for coord in asset_coords]\n",
    "lat_float = [float(coord[1]) for coord in asset_coords]\n",
    "\n",
    "data = xr.DataArray(values, dims=(\"points\",), coords={\"points\": range(len(values))})\n",
    "\n",
    "# Add latitude and longitude as coordinates\n",
    "data = data.assign_coords(\n",
    "    latitude=(\"points\", lat_float), longitude=(\"points\", lon_float)\n",
    ")\n",
    "\n",
    "fig = plt.figure(figsize=(10, 6))\n",
    "ax = plt.axes(projection=ccrs.PlateCarree())\n",
    "\n",
    "# Plot the data using scatter plot\n",
    "plt.scatter(\n",
    "    data[\"longitude\"],\n",
    "    data[\"latitude\"],\n",
    "    c=data,\n",
    "    cmap=\"Reds\",\n",
    "    transform=ccrs.PlateCarree(),\n",
    ")\n",
    "\n",
    "# Add coastlines\n",
    "ax.coastlines()\n",
    "\n",
    "# Show the plot\n",
    "plt.show()"
   ]
  },
  {
   "cell_type": "markdown",
   "id": "10",
   "metadata": {},
   "source": [
    "We can see that our assets with the largest historical fire risk are largely located in Canada, consistent with the large wildfires over the past few summers."
   ]
  },
  {
   "cell_type": "code",
   "execution_count": null,
   "id": "11",
   "metadata": {
    "tags": []
   },
   "outputs": [],
   "source": [
    "df = pd.DataFrame({\"Lon\": lon_float, \"Lat\": lat_float, \"Fire Risk\": values})\n",
    "\n",
    "df.sort_values(\"Fire Risk\", ascending=False)"
   ]
  },
  {
   "cell_type": "markdown",
   "id": "12",
   "metadata": {},
   "source": [
    "We can also easily save the data out as a pandas DataFrame, allowing us to do things like sort by Fire Risk to see the assets at greatest risk."
   ]
  },
  {
   "cell_type": "markdown",
   "id": "13",
   "metadata": {},
   "source": [
    "## Point Values Over Time\n",
    "We now include an example that queries timeseries from the a point in Northern Canada. This function can be used to, for example, track trends in the Fire Weather Index (FWI) to see if there will be assets we should be concerned about in a few days' time. Here we use it to query the next 7 days of data at each location and calculate the trend to see if there is a notable increase or decrease."
   ]
  },
  {
   "cell_type": "code",
   "execution_count": null,
   "id": "14",
   "metadata": {
    "tags": []
   },
   "outputs": [],
   "source": [
    "now = datetime.now()\n",
    "in_seven_days = now + timedelta(days=6)\n",
    "\n",
    "start_date = now.date().isoformat()\n",
    "end_date = in_seven_days.date().isoformat()\n",
    "date_range = f\"{start_date}/{end_date}\"\n",
    "\n",
    "url = (\n",
    "    \"https://api.spatiafi.com/api/timeseries/point/\"\n",
    "    + asset_coords[0][0]\n",
    "    + \",\"\n",
    "    + asset_coords[0][1]\n",
    ")\n",
    "\n",
    "query = {\n",
    "    \"coll_id\": \"climate-engine-cfsv2-era5-land-fire-weather-index-forecasts\",\n",
    "    \"datetime\": date_range,\n",
    "    \"bidx\": \"1\",\n",
    "}\n",
    "\n",
    "response = session.get(url, params=query)\n",
    "\n",
    "data = response.json()\n",
    "\n",
    "# Convert dictionary to a DataFrame\n",
    "df = pd.DataFrame(data.values(), index=pd.to_datetime(list(data.keys())))\n",
    "df.index.name = \"Date\"\n",
    "\n",
    "# Convert values from lists to integers\n",
    "df[\"values\"] = df[\"values\"].apply(lambda x: float(x[0]))\n",
    "\n",
    "df"
   ]
  },
  {
   "cell_type": "code",
   "execution_count": null,
   "id": "15",
   "metadata": {
    "tags": []
   },
   "outputs": [],
   "source": [
    "# Plot the 'values' column as a time series\n",
    "plt.figure(figsize=(10, 6))\n",
    "plt.plot(df.index, df[\"values\"], marker=\"o\", linestyle=\"-\", color=\"b\")\n",
    "plt.xlabel(\"Date\")\n",
    "plt.ylabel(\"FWI\")\n",
    "plt.title(\"Time Series Plot of FWI Forecast in Northern Canada\")\n",
    "plt.grid(True)\n",
    "plt.tight_layout()\n",
    "plt.show()"
   ]
  }
 ],
 "metadata": {
  "kernelspec": {
   "display_name": "Python 3 (ipykernel)",
   "language": "python",
   "name": "python3"
  },
  "language_info": {
   "codemirror_mode": {
    "name": "ipython",
    "version": 3
   },
   "file_extension": ".py",
   "mimetype": "text/x-python",
   "name": "python",
   "nbconvert_exporter": "python",
   "pygments_lexer": "ipython3",
   "version": "3.10.6"
  }
 },
 "nbformat": 4,
 "nbformat_minor": 5
}
