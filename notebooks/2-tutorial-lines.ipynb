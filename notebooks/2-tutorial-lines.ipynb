{
 "cells": [
  {
   "cell_type": "markdown",
   "id": "58d842de-a18d-498a-9b7f-78bf66423ca8",
   "metadata": {},
   "source": [
    "# Load line values\n",
    "\n",
    "This is a demo that queries a geojson line file and evaluates forecasted near-term fire risk based on the [Wildfire Forecast](https://data.spatiafi.com/dataset/spatiafi-wildfire-risk-forecast-us-and-can-v2.0) dataset.  We start by loading our App Credentials, and then using the [geojson statistics](https://docs.spatiafi.com/api/#operation/geojson_statistics_api_statistics_post) endpoint to fetch fire risk values near the line of interest, including a buffer of 50km.\n",
    "\n",
    "---\n",
    "\n",
    "Install `spatiafi` (if not already installed):"
   ]
  },
  {
   "cell_type": "code",
   "execution_count": null,
   "id": "e0f6ce5d-f82e-4335-b7a8-e18c3d47d7cf",
   "metadata": {
    "tags": []
   },
   "outputs": [],
   "source": [
    "!sudo apt -y install libgeos-dev"
   ]
  },
  {
   "cell_type": "code",
   "execution_count": null,
   "id": "ab763db7-9400-41c4-9759-6ba627304f97",
   "metadata": {
    "tags": []
   },
   "outputs": [],
   "source": [
    "%pip install --upgrade spatiafi cartopy xarray geopandas google-cloud-storage folium"
   ]
  },
  {
   "cell_type": "code",
   "execution_count": null,
   "id": "21cff977-5984-412d-9dde-2b6c81947293",
   "metadata": {
    "tags": []
   },
   "outputs": [],
   "source": [
    "import json\n",
    "\n",
    "import folium\n",
    "import geopandas as gpd\n",
    "import spatiafi\n",
    "from google.cloud import storage\n",
    "from shapely.geometry import MultiLineString"
   ]
  },
  {
   "cell_type": "code",
   "execution_count": null,
   "id": "eb7cebe5-90eb-4988-872b-c90ee179a56a",
   "metadata": {
    "tags": []
   },
   "outputs": [],
   "source": [
    "session = spatiafi.get_session()\n",
    "session"
   ]
  },
  {
   "cell_type": "markdown",
   "id": "50784582-791c-4c0d-9c40-f27b2d976bc3",
   "metadata": {},
   "source": [
    "## Loading geojson line"
   ]
  },
  {
   "cell_type": "code",
   "execution_count": null,
   "id": "c1e064d8-6203-463f-a4fd-a38be66e1709",
   "metadata": {
    "tags": []
   },
   "outputs": [],
   "source": [
    "storage_client = storage.Client()\n",
    "\n",
    "bucket_name = \"ce-datasets\"\n",
    "folder_name = \"ce-cn/cn-rail-assets-vector/public/cn_rail_from_ntad\"\n",
    "file_name = \"cn_rail_network_from_NTAD.geojson\"\n",
    "\n",
    "bucket = storage_client.bucket(bucket_name)\n",
    "folder_path = f\"{folder_name}/\" if folder_name else \"\"\n",
    "file_path = f\"{folder_path}{file_name}\"\n",
    "\n",
    "blob = bucket.blob(file_path)\n",
    "\n",
    "if blob.exists():\n",
    "    blob_content = blob.download_as_text()\n",
    "    geojson_objects = blob_content.splitlines()\n",
    "\n",
    "    desired_object_id = 557\n",
    "    desired_geojson_object = None\n",
    "\n",
    "    for obj in geojson_objects:\n",
    "        data = json.loads(obj)\n",
    "        if data[\"properties\"][\"OBJECTID\"] == desired_object_id:\n",
    "            desired_geojson_object = data\n",
    "            break\n",
    "    else:\n",
    "        print(f\"GeoJSON object with OBJECTID = {desired_object_id} not found\")\n",
    "else:\n",
    "    print(\"GeoJSON file not found in GCS\")"
   ]
  },
  {
   "cell_type": "code",
   "execution_count": null,
   "id": "cd73243b-0508-4236-b536-1ce41ffd959a",
   "metadata": {
    "tags": []
   },
   "outputs": [],
   "source": [
    "# Extract the geometries from the GeoJSON dictionary\n",
    "geometries = desired_geojson_object[\"geometry\"]\n",
    "\n",
    "# Convert the geometries to Shapely objects\n",
    "shapely_geometries = MultiLineString(geometries[\"coordinates\"])\n",
    "\n",
    "# Create a GeoDataFrame from the Shapely geometries\n",
    "gdf = gpd.GeoDataFrame(geometry=[shapely_geometries])"
   ]
  },
  {
   "cell_type": "markdown",
   "id": "e73b9a6c-a556-4da2-bce6-3fae1e32e72b",
   "metadata": {},
   "source": [
    "We show here an example of loading in a section of CN rail line. Once we have loaded in the geojson line, we add a buffer of 50km in order to see if there are locations near the rail line at risk of fire."
   ]
  },
  {
   "cell_type": "code",
   "execution_count": null,
   "id": "357c9ce3-55f4-4142-ab64-2e163108e5f0",
   "metadata": {
    "tags": []
   },
   "outputs": [],
   "source": [
    "def generate_buffer_meter(data, radius, geometry=\"geometry\", crs=\"epsg:4326\"):\n",
    "    data = gpd.GeoDataFrame(data, geometry=geometry, crs=crs)\n",
    "    data = data.to_crs(\"+proj=aeqd +units=m  +x_0=0 +y_0=0\")\n",
    "    data[geometry] = data[geometry].buffer(radius)\n",
    "    data = data.to_crs(crs)\n",
    "    return data\n",
    "\n",
    "\n",
    "buffer_radius_meters = 50000\n",
    "\n",
    "# Generate the buffered GeoDataFrame\n",
    "buffered = generate_buffer_meter(gdf, buffer_radius_meters)\n",
    "\n",
    "# Create a Folium map centered at a specific location\n",
    "m = folium.Map(location=[45, -75], zoom_start=4)\n",
    "\n",
    "# Convert the original GeoDataFrame to GeoJSON\n",
    "original_geojson = gdf.to_json()\n",
    "\n",
    "# Add the original geometries to the Folium map\n",
    "folium.GeoJson(original_geojson, style_function=lambda x: {\"color\": \"blue\"}).add_to(m)\n",
    "\n",
    "# Convert the buffered GeoDataFrame to GeoJSON\n",
    "buffered_geojson = buffered.to_json()\n",
    "\n",
    "# Add the buffered geometries to the Folium map\n",
    "folium.GeoJson(buffered_geojson, style_function=lambda x: {\"fillColor\": \"red\"}).add_to(\n",
    "    m\n",
    ")\n",
    "\n",
    "# Display the map\n",
    "m"
   ]
  },
  {
   "cell_type": "code",
   "execution_count": null,
   "id": "e6c98cc0-0ed7-4c8d-8d92-27d7a701d210",
   "metadata": {
    "tags": []
   },
   "outputs": [],
   "source": [
    "lons = buffered[\"geometry\"][0].exterior.coords.xy[0]\n",
    "lats = buffered[\"geometry\"][0].exterior.coords.xy[1]\n",
    "lon_lat_pairs = list(zip(lons, lats))\n",
    "\n",
    "url = \"https://api.spatiafi.com/api/statistics\"\n",
    "\n",
    "params = {\n",
    "    \"item_id\": \"ce-cfsv2-era5-fwi-forecast-day01\",\n",
    "    \"bidx\": \"1\",\n",
    "}\n",
    "\n",
    "payload = {\n",
    "    \"type\": \"Feature\",\n",
    "    \"properties\": {},\n",
    "    \"geometry\": {\n",
    "        \"coordinates\": [lon_lat_pairs],\n",
    "        \"type\": \"Polygon\",\n",
    "    },\n",
    "}\n",
    "\n",
    "# `POST` the request using our `session` object, which will automatically handle authentication.\n",
    "response = session.post(url, json=payload, params=params)\n",
    "data = response.json()\n",
    "\n",
    "print(data[\"properties\"])"
   ]
  },
  {
   "cell_type": "markdown",
   "id": "6ef3bfa4-d289-40b6-a8bd-c31082c81d0a",
   "metadata": {},
   "source": [
    "We can see that some locations near the line are at significant risk of fire. This can help inform where fire mitigation should take place."
   ]
  },
  {
   "cell_type": "code",
   "execution_count": null,
   "id": "89a3df3e-4290-4143-a273-769ea69d0546",
   "metadata": {},
   "outputs": [],
   "source": []
  }
 ],
 "metadata": {
  "kernelspec": {
   "display_name": "Python 3 (ipykernel)",
   "language": "python",
   "name": "python3"
  },
  "language_info": {
   "codemirror_mode": {
    "name": "ipython",
    "version": 3
   },
   "file_extension": ".py",
   "mimetype": "text/x-python",
   "name": "python",
   "nbconvert_exporter": "python",
   "pygments_lexer": "ipython3",
   "version": "3.10.6"
  }
 },
 "nbformat": 4,
 "nbformat_minor": 5
}
