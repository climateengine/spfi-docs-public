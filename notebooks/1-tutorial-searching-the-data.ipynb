{
 "cells": [
  {
   "cell_type": "markdown",
   "id": "3c98cbed-37c5-4fd7-82a9-9a2547aed7e1",
   "metadata": {
    "tags": []
   },
   "source": [
    "# Searching the data\n",
    "\n",
    "The data avaiable within the API structured using the STAC (SpatioTemporal Asset Catalogs) specification. This specification is designed in order to make geospatial information easier to work with, to be indexed and to be discovered."
   ]
  },
  {
   "cell_type": "markdown",
   "id": "bc3f0052-d229-4603-a697-b548284c5b80",
   "metadata": {
    "tags": []
   },
   "source": [
    "## Collections and Items\n",
    "\n",
    "The top level entity within SpataFi's catalogue is the *Collection*. A collection is a group of information with the same methodology, geographic extent, and licence.\n",
    "\n",
    "Within a Collection is an *Item*. An item is the core atomic unit of the catalogue representing a single spatiotemporal asset represented as a GeoJSON feature with a datetime, and links.\n",
    "\n",
    "Some endpoints within SpatifaFi are designed to operate on Collections while others are designed to operate on Items. Which the endpoint expects can be established by if the endpoint takes a `coll_id` or an `item_id`."
   ]
  },
  {
   "cell_type": "code",
   "execution_count": null,
   "id": "6ed5c59f-04fb-4e85-871c-3083b27b88e6",
   "metadata": {
    "tags": []
   },
   "outputs": [],
   "source": [
    "%pip install --upgrade spatiafi"
   ]
  },
  {
   "cell_type": "code",
   "execution_count": null,
   "id": "bcdfd47a-77ee-419e-8415-2a68ec9ec34a",
   "metadata": {
    "tags": []
   },
   "outputs": [],
   "source": [
    "import spatiafi\n",
    "\n",
    "session = spatiafi.get_session()"
   ]
  },
  {
   "cell_type": "markdown",
   "id": "f1b17acc",
   "metadata": {},
   "source": [
    "## Exploring Items and Collections\n",
    "\n",
    "The [search endpoint](https://docs.spatiafi.com/api/#operation/get_search_search_get) can be used to see what Items are within a Collection."
   ]
  },
  {
   "cell_type": "code",
   "execution_count": null,
   "id": "de92e37d-7b2f-4d37-8e39-afeb5ddbf4b0",
   "metadata": {
    "tags": []
   },
   "outputs": [],
   "source": [
    "url = \"https://api.spatiafi.com/search\"\n",
    "\n",
    "query = {\"collections\": \"spatiafi-drought-risk-static-global-v1.0\"}\n",
    "\n",
    "response = session.get(url, params=query)\n",
    "\n",
    "response.json()"
   ]
  },
  {
   "cell_type": "markdown",
   "id": "32f87961-7d5d-49c0-b2c6-10128bf74951",
   "metadata": {},
   "source": [
    "The API returned a GeoJSON `FeatureCollection` which contains one `Feature` per Item within the Collection we're search for. Within this example we're searching for the `spatiafi-drought-risk-static-global-v1.0` Collection which includes two items:\n",
    "\n",
    "- `ce-drought-risk-static-global-short-term-v1.0`\n",
    "- `ce-drought-risk-static-global-long-term-v1.0`"
   ]
  }
 ],
 "metadata": {
  "kernelspec": {
   "display_name": "Python 3 (ipykernel)",
   "language": "python",
   "name": "python3"
  },
  "language_info": {
   "codemirror_mode": {
    "name": "ipython",
    "version": 3
   },
   "file_extension": ".py",
   "mimetype": "text/x-python",
   "name": "python",
   "nbconvert_exporter": "python",
   "pygments_lexer": "ipython3",
   "version": "3.10.12"
  }
 },
 "nbformat": 4,
 "nbformat_minor": 5
}
