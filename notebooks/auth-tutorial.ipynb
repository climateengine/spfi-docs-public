{
 "cells": [
  {
   "cell_type": "markdown",
   "id": "76b0289d-013d-4a4a-a697-9f80946e5e5c",
   "metadata": {
    "pycharm": {
     "name": "#%% md\n"
    },
    "tags": []
   },
   "source": [
    "# Climate Engine Authentication\n",
    "\n",
    "The general authentication flow involves authenticating with the [Climate Engine Authorization Server](https://auth.climateengine.com/docs) and obtaining an access token, and using that token to access protected endpoints by including it in the Authorization header.\n",
    "\n",
    "Here are some important endpoints that will be used in this tutorial:\n",
    "\n",
    "`POST https://auth.climateengine.com/api/v1/auth/jwt/token`: Obtain an access token using some credentials\n",
    "\n",
    "`GET https://auth.climateengine.com/api/v1/users/me`: Get information about your account (access token required)\n",
    "\n",
    "`POST https://auth.climateengine.com/api/v1/clients/`: Create a new api client tied to your account (access token required)\n",
    "\n"
   ]
  },
  {
   "cell_type": "markdown",
   "id": "976bb60f-7d75-436f-a1ac-2eac792d9d71",
   "metadata": {
    "pycharm": {
     "name": "#%% md\n"
    },
    "tags": []
   },
   "source": [
    "### Requirements\n",
    "\n",
    "`requests` and `authlib` libraries will be used for code examples in this tutorial, to install:"
   ]
  },
  {
   "cell_type": "code",
   "execution_count": null,
   "id": "c143802c",
   "metadata": {},
   "outputs": [],
   "source": [
    "!pip install requests authlib"
   ]
  },
  {
   "cell_type": "code",
   "execution_count": null,
   "id": "93056e90",
   "metadata": {},
   "outputs": [],
   "source": [
    "import requests\n",
    "from authlib.integrations.requests_client import OAuth2Session\n",
    "from authlib.oauth2.rfc7523 import ClientSecretJWT"
   ]
  },
  {
   "cell_type": "markdown",
   "id": "3fc9fa34-61f7-441b-8c89-8e3465a7f35d",
   "metadata": {
    "pycharm": {
     "name": "#%% md\n"
    }
   },
   "source": [
    "### Token Endpoint\n",
    "\n",
    "An access token can be obtained through a `POST` request to `/api/v1/auth/jwt/token` endpoint. The token endpoint supports OAuth2 `password` and `client_credentials` grant types. *Access tokens only last ~15 minutes*\n",
    "\n",
    "#### **password grant type:**\n",
    "\n",
    "In order to get an access token with `password` grant type, do a `POST` request to `/api/v1/auth/jwt/token` endpoint with the POST parameters `grant_type=password`, `username=<your_email>` and `password=<your_password>`. On successful authentication, the response will include an access token that is valid for ~15 minutes, along with some expiration information. This grant type is useful for testing, but the recommended grant type to obtain access tokens for client applications is `client_credentials`.\n",
    "\n",
    "(`client_id` and `client_secret` fields are not required for `password` grant)\n",
    "\n",
    "#### **client_credentials grant type:**\n",
    "\n",
    "In order to get an access token with `client_credentials` grant type, you use your previously generated `client_id` and `client_secret` (more on that later) through one of the supported methods below:\n",
    "\n",
    "(These are included here as a reference and they will generally be automatically handled with an oauth client library that supports these authentication methods (authlib in this tutorial's case).)\n",
    "\n",
    "(`grant_type=client_credentials` POST parameter must be included for all the methods below)\n",
    "\n",
    "**`client_secret_basic`:** Provide `client_id` and `client_secret` as username and password in HTTP Basic authorization header.\n",
    "\n",
    "**`client_secret_post`:** Provide `client_id` and `client_secret` as POST parameters\n",
    "\n",
    "**`client_secret_jwt`:** Create a JWT as described in the [spec](https://openid.net/specs/openid-connect-core-1_0.html#ClientAuthentication) and sign it with `client_secret`. Set `client_assertion_type=urn:ietf:params:oauth:client-assertion-type:jwt-bearer` POST parameter, and include the JWT in `client_assertion` POST parameter.\n"
   ]
  },
  {
   "cell_type": "markdown",
   "id": "39772650-38e0-4121-93d0-b03e99cf22f9",
   "metadata": {
    "pycharm": {
     "name": "#%% md\n"
    }
   },
   "source": [
    "### Obtain an access token and access a protected endpoint\n",
    "\n",
    "We will use `requests` for making the requests here, but you can follow along using the [interactive api docs](https://auth.climateengine.com/docs).\n",
    "\n",
    "In the [interactive api docs](https://auth.climateengine.com/docs), for endpoints that require authentication (e.g the endpoints under the users and clients sections), you can authenticate by clicking the padlock icon on the right and entering your username and password under OAuth2PasswordBearer in the modal that pops up (client_id and client_secret are not required). When the access token expires (and you get a 401 Unauthorized response), you need to logout and re-login using the same modal.\n"
   ]
  },
  {
   "cell_type": "markdown",
   "id": "b9e00aa5-3a9f-46e8-961a-58211e59a52d",
   "metadata": {
    "pycharm": {
     "name": "#%% md\n"
    }
   },
   "source": [
    "#### Get an access token\n",
    "\n",
    "In order to get an access token, we will send a POST request to `/api/v1/auth/jwt/token` endpoint with our username and password and grant_type=password as form fields in the body.\n",
    "\n",
    "(If you get a 401 Unauthorized response for the sections below because the access token is expired, you can renew it by re-running the cell below)"
   ]
  },
  {
   "cell_type": "code",
   "execution_count": null,
   "id": "2df56c0f-46b2-4564-85f8-e285c7d6ae43",
   "metadata": {
    "pycharm": {
     "name": "#%%\n"
    }
   },
   "outputs": [],
   "source": [
    "username = \"bennett@climateengine.com\"\n",
    "password = \"hunter2\"\n",
    "\n",
    "body = {\"grant_type\": \"password\", \"username\": username, \"password\": password}\n",
    "# note that we are using data= parameter instead of json=, because this endpoint expects x-www-form-urlencoded body\n",
    "response = requests.post(\n",
    "    \"https://auth.climateengine.com/api/v1/auth/jwt/token\", data=body\n",
    ")\n",
    "response_data = response.json()\n",
    "print(f\"status: {response.status_code}\")\n",
    "print(response_data)\n",
    "\n",
    "access_token = response_data[\"access_token\"]"
   ]
  },
  {
   "cell_type": "markdown",
   "id": "27d8b68a-fc2f-4b70-bf64-843efd755ff2",
   "metadata": {
    "pycharm": {
     "name": "#%% md\n"
    }
   },
   "source": [
    "#### Access a protected endpoint using the access token"
   ]
  },
  {
   "cell_type": "code",
   "execution_count": null,
   "id": "b631c3ca-056f-4d55-b357-8fb8a12e46da",
   "metadata": {
    "pycharm": {
     "name": "#%%\n"
    }
   },
   "outputs": [],
   "source": [
    "headers = {\"Authorization\": \"Bearer \" + access_token}\n",
    "response = requests.get(\n",
    "    \"https://auth.climateengine.com/api/v1/users/me\", headers=headers\n",
    ")\n",
    "print(f\"status: {response.status_code}\")\n",
    "print(response.json())"
   ]
  },
  {
   "cell_type": "markdown",
   "id": "8edcc1cb-5cee-4ae0-b136-3b410f0e52e3",
   "metadata": {
    "pycharm": {
     "name": "#%% md\n"
    }
   },
   "source": [
    "### Create a `client` object, and use it to obtain access tokens automatically with authlib and requests"
   ]
  },
  {
   "cell_type": "markdown",
   "id": "7b91dac8-a589-495f-a23e-91bdd2b0a0e2",
   "metadata": {
    "pycharm": {
     "name": "#%% md\n"
    }
   },
   "source": [
    "#### Create an OAuth2 client_id and client_secret\n",
    "\n",
    "In order to create a client, we do an empty POST request to `/api/v1/clients` endpoint. `client_secret` is only shown once during client creation and can't be accessed later, so make sure to save it somewhere safe."
   ]
  },
  {
   "cell_type": "code",
   "execution_count": null,
   "id": "327cfd10-c4d9-4610-a474-e870f5cb7d03",
   "metadata": {
    "pycharm": {
     "name": "#%%\n"
    }
   },
   "outputs": [],
   "source": [
    "response = requests.post(\n",
    "    \"https://auth.climateengine.com/api/v1/clients/\", headers=headers\n",
    ")\n",
    "response_data = response.json()\n",
    "print(f\"status: {response.status_code}\")\n",
    "print(response_data)\n",
    "\n",
    "client_id = response_data[\"client_id\"]\n",
    "client_secret = response_data[\"client_secret\"]"
   ]
  },
  {
   "cell_type": "markdown",
   "id": "89b4b6e3-a752-4a20-874f-d5c9b45e9da3",
   "metadata": {
    "pycharm": {
     "name": "#%% md\n"
    }
   },
   "source": [
    "#### Create an authlib OAuth2Session client\n",
    "OAuth2Session is also a requests (library) session, so it can be used just like the requests session. When using the `client_credentials` grant type and once an access token is fetched, authlib will automatically check whether the access token is expired before making a request and fetch a new token as necessary for the remaining requests."
   ]
  },
  {
   "cell_type": "code",
   "execution_count": null,
   "id": "1ab0c8e4-5d27-4e06-a162-1639acc40d0b",
   "metadata": {
    "pycharm": {
     "name": "#%%\n"
    }
   },
   "outputs": [],
   "source": [
    "token_endpoint = \"https://auth.climateengine.com/api/v1/auth/jwt/token\"\n",
    "\n",
    "\n",
    "def client_secret_jwt_client():\n",
    "    client = OAuth2Session(\n",
    "        client_id,\n",
    "        client_secret,\n",
    "        token_endpoint=token_endpoint,\n",
    "        grant_type=\"client_credentials\",\n",
    "        token_endpoint_auth_method=ClientSecretJWT(token_endpoint),\n",
    "    )\n",
    "    client.fetch_token()\n",
    "    return client\n",
    "\n",
    "\n",
    "client = client_secret_jwt_client()\n",
    "print(\"Getting an access_token with client_secret_jwt...\")\n",
    "print(client.fetch_token())"
   ]
  },
  {
   "cell_type": "markdown",
   "id": "c72ad9ca-1cb4-427b-b413-c01cd4427e37",
   "metadata": {
    "pycharm": {
     "name": "#%% md\n"
    }
   },
   "source": [
    "#### Call a protected endpoints with the authlib `client`"
   ]
  },
  {
   "cell_type": "code",
   "execution_count": null,
   "id": "9fdeb8b9-baa3-4bfc-a991-ebccf6010295",
   "metadata": {
    "pycharm": {
     "name": "#%%\n"
    }
   },
   "outputs": [],
   "source": [
    "client = client_secret_jwt_client()\n",
    "\n",
    "response = client.get(\"https://auth.climateengine.com/api/v1/users/me\")\n",
    "print(f\"status: {response.status_code}\")\n",
    "print(response.json())"
   ]
  },
  {
   "cell_type": "markdown",
   "id": "f9a9f972-bd7b-4ced-b5c5-4283e61968fa",
   "metadata": {},
   "source": [
    "If you see a `status 200` above, this indicates that you have successfully authenticated to the API.  You can now authenticate using your `client_id` and `client_secret` in future scripts!"
   ]
  }
 ],
 "metadata": {
  "kernelspec": {
   "display_name": "Python 3 (ipykernel)",
   "language": "python",
   "name": "python3"
  },
  "language_info": {
   "codemirror_mode": {
    "name": "ipython",
    "version": 3
   },
   "file_extension": ".py",
   "mimetype": "text/x-python",
   "name": "python",
   "nbconvert_exporter": "python",
   "pygments_lexer": "ipython3",
   "version": "3.10.6"
  }
 },
 "nbformat": 4,
 "nbformat_minor": 5
}
