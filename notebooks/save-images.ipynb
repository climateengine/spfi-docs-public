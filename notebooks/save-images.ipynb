{
 "cells": [
  {
   "cell_type": "markdown",
   "id": "16a65d3e-348f-4a1a-a29c-c645acc9b220",
   "metadata": {},
   "source": [
    "# Save Images\n",
    "\n",
    "This is a demo of saving the [Extreme Heat Forecast](https://data.spatiafi.com/dataset/35) dataset.  We start by loading our App Credentials, and then using the [crop](https://docs.spatiafi.com/api/#operation/geojson_crop_api_image_crop_post) endpoint to fetch a part of the dataset cropped to an area of interest.\n",
    "\n",
    "---\n",
    "\n",
    "Install `authlib` (if not already installed) and importing some supporting libraries:"
   ]
  },
  {
   "cell_type": "code",
   "execution_count": null,
   "id": "6ea5d2eb-c22e-47f9-b113-e5193676de8c",
   "metadata": {},
   "outputs": [],
   "source": [
    "!pip install requests authlib"
   ]
  },
  {
   "cell_type": "code",
   "execution_count": null,
   "id": "4ce807bd-f0b0-4478-90f8-f477fe60ee75",
   "metadata": {
    "tags": []
   },
   "outputs": [],
   "source": [
    "import errno\n",
    "import json\n",
    "import os\n",
    "import time\n",
    "from io import BytesIO\n",
    "\n",
    "import matplotlib.pyplot as plt\n",
    "from authlib.integrations.requests_client import OAuth2Session\n",
    "from authlib.oauth2.rfc7523 import ClientSecretJWT\n",
    "from PIL import Image\n",
    "from platformdirs import user_config_dir"
   ]
  },
  {
   "cell_type": "markdown",
   "id": "8e2f8c73-b39a-473a-9136-500795c02326",
   "metadata": {},
   "source": [
    "### Load SpatiaFi App Credentials from file and create Authenticated `session`\n",
    "\n",
    "We load previously generated App Credentials.\n",
    "\n",
    "**If you have not generated App Credentials, please do so first by running the [App Authentication](https://docs.spatiafi.com/tutorials/app-authentication/) notebook**"
   ]
  },
  {
   "cell_type": "code",
   "execution_count": null,
   "id": "e57e60ed-0f8a-49a2-ad91-95b409762fe3",
   "metadata": {
    "tags": []
   },
   "outputs": [],
   "source": [
    "def load_spatiafi_credentials():\n",
    "    if not os.environ.get(\"CLIENT_ID\", False) or not os.environ.get(\n",
    "        \"CLIENT_SECRET\", False\n",
    "    ):\n",
    "        file_location = os.path.join(\n",
    "            user_config_dir(\"spatiafi\", ensure_exists=True), \"app_credentials\"\n",
    "        )\n",
    "\n",
    "        if not os.path.isfile(file_location):\n",
    "            print(\n",
    "                f\"File {file_location} not found. Have you generated and saved App Credentials?\"\n",
    "            )\n",
    "            raise FileNotFoundError(\n",
    "                errno.ENOENT, os.strerror(errno.ENOENT), file_location\n",
    "            )\n",
    "\n",
    "        with open(file_location) as f:\n",
    "            data = json.load(f)\n",
    "\n",
    "        for key, value in data.items():\n",
    "            os.environ[key.upper()] = str(value)\n",
    "\n",
    "\n",
    "load_spatiafi_credentials()"
   ]
  },
  {
   "cell_type": "code",
   "execution_count": null,
   "id": "e8fa3751-6ade-4f22-86cb-c12a0b6f6ade",
   "metadata": {
    "tags": []
   },
   "outputs": [],
   "source": [
    "# This function returns an `authlib` session, which is very similar to a `requests` session.\n",
    "# It can be used to access the SpatiaFi API and will automatically refresh access tokens if they expire.\n",
    "\n",
    "\n",
    "def get_session():\n",
    "    client = OAuth2Session(\n",
    "        os.environ[\"CLIENT_ID\"],\n",
    "        os.environ[\"CLIENT_SECRET\"],\n",
    "        token_endpoint=\"https://auth.spatiafi.com/api/v1/auth/jwt/token\",\n",
    "        grant_type=\"client_credentials\",\n",
    "        token_endpoint_auth_method=ClientSecretJWT(\n",
    "            \"https://auth.spatiafi.com/api/v1/auth/jwt/token\"\n",
    "        ),\n",
    "    )\n",
    "    client.fetch_token()\n",
    "    return client\n",
    "\n",
    "\n",
    "session = get_session()\n",
    "print(\"Getting an access_token with client_id and client_secret\")\n",
    "response_data = session.fetch_token()\n",
    "minutes, seconds = divmod(response_data[\"expires_at\"] - int(time.time()), 60)\n",
    "\n",
    "\n",
    "print(f\"Access token expires in: {minutes} minutes, {seconds} seconds\")"
   ]
  },
  {
   "cell_type": "markdown",
   "id": "d821bb2d-ca4b-4b7e-8548-7b84188bfa96",
   "metadata": {},
   "source": [
    "## Crop Dataset to AOI\n",
    "\n",
    "Now that we have authenticated to the SpatiaFi API, we can use the `/api/image/crop` endpoint to download a specific Area of Interest (AOI).\n",
    "\n",
    "In this case, the GeoJSON payload data was found by manually selecting an area using [geojson.io](geojson.io).  We could also generate these AOIs or read them from an existing file."
   ]
  },
  {
   "cell_type": "code",
   "execution_count": null,
   "id": "b217a928-cb08-46e0-9529-ab1579cdc3a9",
   "metadata": {
    "tags": []
   },
   "outputs": [],
   "source": [
    "url = \"https://api.spatiafi.com/api/image/crop\"\n",
    "\n",
    "params = {\n",
    "    \"format\": \"png\",\n",
    "    \"item_id\": \"ce-extreme-heat-risk-current-global-v1.0\",\n",
    "    \"bidx\": \"1\",\n",
    "    \"rescale\": \"0,4\",  # this dataset has a range of values between 0-4, so we rescale the gray values to better see the image.\n",
    "}\n",
    "\n",
    "# North Saudi Arabia\n",
    "payload = {\n",
    "    \"type\": \"Feature\",\n",
    "    \"properties\": {},\n",
    "    \"geometry\": {\n",
    "        \"coordinates\": [\n",
    "            [\n",
    "                [31.76491069149293, 32.29986592075784],\n",
    "                [31.76491069149293, 23.092931581000542],\n",
    "                [51.58140483659537, 23.092931581000542],\n",
    "                [51.58140483659537, 32.29986592075784],\n",
    "                [31.76491069149293, 32.29986592075784],\n",
    "            ]\n",
    "        ],\n",
    "        \"type\": \"Polygon\",\n",
    "    },\n",
    "}\n",
    "\n",
    "# `POST` the request using our `session` object, which will automatically handle authentication.\n",
    "response = session.post(url, json=payload, params=params)"
   ]
  },
  {
   "cell_type": "code",
   "execution_count": null,
   "id": "a3311eba-272c-43eb-ab58-a98946456e40",
   "metadata": {
    "tags": []
   },
   "outputs": [],
   "source": [
    "response"
   ]
  },
  {
   "cell_type": "markdown",
   "id": "eea0baf6-b746-4dec-ad86-f1f834d5524f",
   "metadata": {
    "tags": []
   },
   "source": [
    "### Open and save the generated image\n",
    "\n",
    "Using [PIL](https://pillow.readthedocs.io/en/stable/) and matplotlib, we can quickly view the image in Jupyter before saving it to disk."
   ]
  },
  {
   "cell_type": "code",
   "execution_count": null,
   "id": "612ba43e-0b3f-4311-9376-734537b04714",
   "metadata": {
    "tags": []
   },
   "outputs": [],
   "source": [
    "# Open the image file from the response content\n",
    "img = Image.open(BytesIO(response.content))\n",
    "\n",
    "# Display the image\n",
    "plt.imshow(img)\n",
    "plt.show()"
   ]
  },
  {
   "cell_type": "markdown",
   "id": "6d41ad99-d0ce-4735-ab6e-f9dc01429a03",
   "metadata": {},
   "source": [
    "## Save the Image to disk"
   ]
  },
  {
   "cell_type": "code",
   "execution_count": null,
   "id": "7f01b40e-a4a4-42a4-8f4e-1e032807744e",
   "metadata": {
    "tags": []
   },
   "outputs": [],
   "source": [
    "# Save image to disk\n",
    "with open(\"output.png\", \"wb\") as f:\n",
    "    for chunk in response.iter_content(1024):\n",
    "        f.write(chunk)"
   ]
  }
 ],
 "metadata": {
  "kernelspec": {
   "display_name": "Python 3 (ipykernel)",
   "language": "python",
   "name": "python3"
  },
  "language_info": {
   "codemirror_mode": {
    "name": "ipython",
    "version": 3
   },
   "file_extension": ".py",
   "mimetype": "text/x-python",
   "name": "python",
   "nbconvert_exporter": "python",
   "pygments_lexer": "ipython3",
   "version": "3.10.6"
  }
 },
 "nbformat": 4,
 "nbformat_minor": 5
}
