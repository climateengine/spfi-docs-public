{
 "cells": [
  {
   "cell_type": "markdown",
   "id": "16a65d3e-348f-4a1a-a29c-c645acc9b220",
   "metadata": {},
   "source": [
    "# Save Images\n",
    "\n",
    "This is a demo of saving the extreme heat forcast.  We start by loading our App Credentials, and then using the [crop](https://api.spatiafi.com/api/image/crop) endpoint to fetch a part of the dataset cropped to an area of interest."
   ]
  },
  {
   "cell_type": "code",
   "execution_count": null,
   "id": "4ce807bd-f0b0-4478-90f8-f477fe60ee75",
   "metadata": {
    "tags": []
   },
   "outputs": [],
   "source": [
    "import json\n",
    "import os\n",
    "import time\n",
    "from io import BytesIO\n",
    "\n",
    "import matplotlib.pyplot as plt\n",
    "from authlib.integrations.requests_client import OAuth2Session\n",
    "from authlib.oauth2.rfc7523 import ClientSecretJWT\n",
    "from PIL import Image\n",
    "from platformdirs import user_config_dir"
   ]
  },
  {
   "cell_type": "code",
   "execution_count": null,
   "id": "e57e60ed-0f8a-49a2-ad91-95b409762fe3",
   "metadata": {
    "tags": []
   },
   "outputs": [],
   "source": [
    "def load_spatiafi_credentials():\n",
    "    if not os.environ.get(\"CLIENT_ID\", False) or not os.environ.get(\n",
    "        \"CLIENT_SECRET\", False\n",
    "    ):\n",
    "        file_location = os.path.join(\n",
    "            user_config_dir(\"spatiafi\", ensure_exists=True), \"app_credentials\"\n",
    "        )\n",
    "        try:\n",
    "            with open(file_location) as f:\n",
    "                data = json.load(f)\n",
    "\n",
    "            for key, value in data.items():\n",
    "                os.environ[key.upper()] = str(value)\n",
    "        except Exception as e:\n",
    "            print(f\"Error occurred: {e}\")\n",
    "\n",
    "\n",
    "load_spatiafi_credentials()"
   ]
  },
  {
   "cell_type": "code",
   "execution_count": null,
   "id": "e8fa3751-6ade-4f22-86cb-c12a0b6f6ade",
   "metadata": {
    "tags": []
   },
   "outputs": [],
   "source": [
    "# This\n",
    "\n",
    "\n",
    "def get_session():\n",
    "    client = OAuth2Session(\n",
    "        os.environ[\"CLIENT_ID\"],\n",
    "        os.environ[\"CLIENT_SECRET\"],\n",
    "        token_endpoint=\"https://auth.spatiafi.com/api/v1/auth/jwt/token\",\n",
    "        grant_type=\"client_credentials\",\n",
    "        token_endpoint_auth_method=ClientSecretJWT(\n",
    "            \"https://auth.spatiafi.com/api/v1/auth/jwt/token\"\n",
    "        ),\n",
    "    )\n",
    "    client.fetch_token()\n",
    "    return client\n",
    "\n",
    "\n",
    "session = get_session()\n",
    "print(\"Getting an access_token with client_id and client_secret:\\n\")\n",
    "response_data = session.fetch_token()\n",
    "minutes, seconds = divmod(response_data[\"expires_at\"] - int(time.time()), 60)\n",
    "\n",
    "\n",
    "print(f\"New access token expires in: {minutes} minutes, {seconds} seconds\")"
   ]
  },
  {
   "cell_type": "code",
   "execution_count": null,
   "id": "b217a928-cb08-46e0-9529-ab1579cdc3a9",
   "metadata": {
    "tags": []
   },
   "outputs": [],
   "source": [
    "url = \"https://api.spatiafi.com/api/image/crop\"\n",
    "\n",
    "params = {\n",
    "    \"format\": \"png\",\n",
    "    \"item_id\": \"ce-extreme-heat-risk-current-global-v1.0\",\n",
    "    \"bidx\": \"1\",\n",
    "    \"rescale\": \"0,4\",\n",
    "}\n",
    "\n",
    "# Jeddah\n",
    "payload = {\n",
    "    \"type\": \"Feature\",\n",
    "    \"properties\": {},\n",
    "    \"geometry\": {\n",
    "        \"coordinates\": [\n",
    "            [\n",
    "                [29.787488209975464, 32.89408938103146],\n",
    "                [29.787488209975464, 21.098079147719773],\n",
    "                [50.238073045019405, 21.098079147719773],\n",
    "                [50.238073045019405, 32.89408938103146],\n",
    "                [29.787488209975464, 32.89408938103146],\n",
    "            ]\n",
    "        ],\n",
    "        \"type\": \"Polygon\",\n",
    "    },\n",
    "}\n",
    "\n",
    "response = session.post(url, json=payload, params=params)"
   ]
  },
  {
   "cell_type": "code",
   "execution_count": null,
   "id": "1c773f01-0e30-4dd0-85c3-edf370a7f12b",
   "metadata": {
    "tags": []
   },
   "outputs": [],
   "source": [
    "response"
   ]
  },
  {
   "cell_type": "code",
   "execution_count": null,
   "id": "612ba43e-0b3f-4311-9376-734537b04714",
   "metadata": {
    "tags": []
   },
   "outputs": [],
   "source": [
    "# Open the image file from the response content\n",
    "img = Image.open(BytesIO(response.content))\n",
    "\n",
    "# Display the image\n",
    "plt.imshow(img)\n",
    "plt.show()"
   ]
  },
  {
   "cell_type": "markdown",
   "id": "6d41ad99-d0ce-4735-ab6e-f9dc01429a03",
   "metadata": {},
   "source": [
    "## Save the Image to disk"
   ]
  },
  {
   "cell_type": "code",
   "execution_count": null,
   "id": "7f01b40e-a4a4-42a4-8f4e-1e032807744e",
   "metadata": {
    "tags": []
   },
   "outputs": [],
   "source": [
    "with open(\"output.png\", \"wb\") as f:\n",
    "    for chunk in response.iter_content(1024):\n",
    "        f.write(chunk)"
   ]
  },
  {
   "cell_type": "code",
   "execution_count": null,
   "id": "8f441a6c-af3e-42e6-a504-22c7bc8b9c33",
   "metadata": {},
   "outputs": [],
   "source": []
  }
 ],
 "metadata": {
  "kernelspec": {
   "display_name": "Python 3 (ipykernel)",
   "language": "python",
   "name": "python3"
  },
  "language_info": {
   "codemirror_mode": {
    "name": "ipython",
    "version": 3
   },
   "file_extension": ".py",
   "mimetype": "text/x-python",
   "name": "python",
   "nbconvert_exporter": "python",
   "pygments_lexer": "ipython3",
   "version": "3.10.6"
  }
 },
 "nbformat": 4,
 "nbformat_minor": 5
}
