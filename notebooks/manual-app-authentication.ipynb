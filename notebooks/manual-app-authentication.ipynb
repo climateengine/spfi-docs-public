{
 "cells": [
  {
   "cell_type": "markdown",
   "id": "76b0289d-013d-4a4a-a697-9f80946e5e5c",
   "metadata": {
    "pycharm": {
     "name": "#%% md\n"
    },
    "tags": []
   },
   "source": [
    "# Manual App Authentication\n",
    "\n",
    "In this tutorial we will use the [SpatiaFi Auth API](https://docs.spatiafi.com/auth/) directly to generate new app credentials.\n",
    "\n",
    "The examples here are written in Python, but the same process can be used in any language or library that supports [OAuth 2.0 Client Credentials Grant](https://auth0.com/docs/flows/concepts/client-credentials). These credentials can then be used in your own applications to authenticate to the SpatiaFi API.\n",
    "\n",
    "**If you are using the SpatiaFi API in Python or a Jupyter Notebook, you can skip this tutorial and use the [SpatiaFi Python Library](https://github.com/climateengine/py-spatiafi) instead.**\n",
    "\n",
    "---\n",
    "\n",
    "## Overview\n",
    "\n",
    "We will first authenticate to the [SpatiaFi Auth API](https://auth.spatiafi.com/) once using our username and password.\n",
    "Then using the returned access token we can generate new \"App Credentials\" as a `client_id` and `client_secret`.\n",
    "\n",
    "Finally, we'll save the App Credentials to a file and load them into our environment variables.\n",
    "We will then be able to use these app credentials to generate new access tokens in the future."
   ]
  },
  {
   "cell_type": "markdown",
   "id": "976bb60f-7d75-436f-a1ac-2eac792d9d71",
   "metadata": {
    "pycharm": {
     "name": "#%% md\n"
    },
    "tags": []
   },
   "source": [
    "### Requirements\n",
    "\n",
    "`requests` and `authlib` libraries will be used for code examples in this tutorial, to install:"
   ]
  },
  {
   "cell_type": "code",
   "execution_count": null,
   "id": "c143802c",
   "metadata": {
    "tags": []
   },
   "outputs": [],
   "source": [
    "%pip install requests authlib"
   ]
  },
  {
   "cell_type": "code",
   "execution_count": null,
   "id": "93056e90",
   "metadata": {
    "tags": []
   },
   "outputs": [],
   "source": [
    "import json\n",
    "import time\n",
    "from pprint import pprint\n",
    "\n",
    "import requests\n",
    "from authlib.integrations.requests_client import OAuth2Session\n",
    "from authlib.oauth2.rfc7523 import ClientSecretJWT"
   ]
  },
  {
   "cell_type": "markdown",
   "id": "3fc9fa34-61f7-441b-8c89-8e3465a7f35d",
   "metadata": {
    "pycharm": {
     "name": "#%% md\n"
    }
   },
   "source": [
    "## Basic Auth Token Endpoint\n",
    "\n",
    "An access token to can be obtained by making a `GET` request to `https://auth.spatiafi.com/api/v1/auth/jwt/token/basic` with an [HTTP Basic Authentication](https://en.wikipedia.org/wiki/Basic_access_authentication) header.\n",
    "\n",
    "This is straightforward using [requests](https://requests.readthedocs.io/en/latest/). Of course, remember to use your own username and password."
   ]
  },
  {
   "cell_type": "code",
   "execution_count": null,
   "id": "f9a2c14b-1fc8-4755-926e-e3fe8a3df29f",
   "metadata": {
    "tags": []
   },
   "outputs": [],
   "source": [
    "url = \"https://auth.spatiafi.com/api/v1/auth/jwt/token/basic\"\n",
    "\n",
    "username = \"null@example.com\"\n",
    "password = \"example_password123\"\n",
    "\n",
    "response = requests.get(url, auth=(username, password))\n",
    "\n",
    "response_data = response.json()\n",
    "access_token = response_data[\"access_token\"]\n",
    "\n",
    "pprint(response_data)"
   ]
  },
  {
   "cell_type": "markdown",
   "id": "c8a3868f-9311-40c6-b797-60898cb42baa",
   "metadata": {},
   "source": [
    "## Generate App Credentials\n",
    "\n",
    "We now have an \"access token\", but **this token only lasts ~15 minutes**.  We can check the expiry time with:"
   ]
  },
  {
   "cell_type": "code",
   "execution_count": null,
   "id": "9a578be8-8d6a-4f13-b5ab-af928871706b",
   "metadata": {
    "tags": []
   },
   "outputs": [],
   "source": [
    "minutes, seconds = divmod(response_data[\"expires_at\"] - int(time.time()), 60)\n",
    "\n",
    "print(f\"Access token expires in: {minutes} minutes, {seconds} seconds\")"
   ]
  },
  {
   "cell_type": "markdown",
   "id": "8edcc1cb-5cee-4ae0-b136-3b410f0e52e3",
   "metadata": {
    "pycharm": {
     "name": "#%% md\n"
    }
   },
   "source": [
    "To work around this short expiry time, we generate App Credentials (`client_id` and `client_secret`) and use [authlib](https://docs.authlib.org/en/latest/) to obtain new access tokens.\n",
    "\n",
    "When using App Credentials to obtain new access tokens, your password is not used, and your `client_secret` is used it _encrypt_ your request before sending.\n",
    "This means that you can authenticate to the SpatiaFi API without transferring your password or `client_secret` over the internet."
   ]
  },
  {
   "cell_type": "markdown",
   "id": "7b91dac8-a589-495f-a23e-91bdd2b0a0e2",
   "metadata": {
    "pycharm": {
     "name": "#%% md\n"
    }
   },
   "source": [
    "### Create `client_id` and `client_secret`\n",
    "\n",
    "In order to create App Credentials, we will make an empty `POST` request to `/api/v1/clients` endpoint, and include the `access_token` from above in the Header.\n",
    "\n",
    "`client_secret` is only shown once during client creation and can't be accessed later, so make sure to save it somewhere safe."
   ]
  },
  {
   "cell_type": "code",
   "execution_count": null,
   "id": "327cfd10-c4d9-4610-a474-e870f5cb7d03",
   "metadata": {
    "pycharm": {
     "name": "#%%\n"
    },
    "tags": []
   },
   "outputs": [],
   "source": [
    "headers = {\"Authorization\": \"Bearer \" + access_token}\n",
    "\n",
    "response = requests.post(\"https://auth.spatiafi.com/api/v1/clients/\", headers=headers)\n",
    "response_data = response.json()\n",
    "print(f\"status: {response.status_code}\")\n",
    "print(response_data)\n",
    "\n",
    "client_id = response_data[\"client_id\"]\n",
    "client_secret = response_data[\"client_secret\"]"
   ]
  },
  {
   "cell_type": "markdown",
   "id": "52218296-1669-4e15-af74-8bc5d7356624",
   "metadata": {},
   "source": [
    "### Save App Credentials\n",
    "In order to use these credentials in the future we will save them to our local machine."
   ]
  },
  {
   "cell_type": "code",
   "execution_count": null,
   "id": "e72caf3c-6a58-4715-a563-a422562a86f8",
   "metadata": {
    "tags": []
   },
   "outputs": [],
   "source": [
    "file_location = \"app_credentials.json\"\n",
    "\n",
    "with open(file_location, \"w\") as f:\n",
    "    json.dump(response_data, f)\n",
    "    print(\"App Credentials saved to:\", file_location)"
   ]
  },
  {
   "cell_type": "markdown",
   "id": "89b4b6e3-a752-4a20-874f-d5c9b45e9da3",
   "metadata": {
    "pycharm": {
     "name": "#%% md\n"
    }
   },
   "source": [
    "## Use App Credentials to generate a new Access Token\n",
    "\n",
    "We can now use `authlib` and these credentials to generate access tokens:"
   ]
  },
  {
   "cell_type": "code",
   "execution_count": null,
   "id": "1ab0c8e4-5d27-4e06-a162-1639acc40d0b",
   "metadata": {
    "pycharm": {
     "name": "#%%\n"
    },
    "tags": []
   },
   "outputs": [],
   "source": [
    "def get_session():\n",
    "    client = OAuth2Session(\n",
    "        client_id,\n",
    "        client_secret,\n",
    "        token_endpoint=\"https://auth.spatiafi.com/api/v1/auth/jwt/token\",\n",
    "        grant_type=\"client_credentials\",\n",
    "        token_endpoint_auth_method=ClientSecretJWT(\n",
    "            \"https://auth.spatiafi.com/api/v1/auth/jwt/token\"\n",
    "        ),\n",
    "    )\n",
    "    client.fetch_token()\n",
    "    return client\n",
    "\n",
    "\n",
    "session = get_session()\n",
    "print(\"Getting an access_token with client_id and client_secret:\\n\")\n",
    "response_data = session.fetch_token()\n",
    "minutes, seconds = divmod(response_data[\"expires_at\"] - int(time.time()), 60)\n",
    "\n",
    "print(f\"New access token expires in: {minutes} minutes, {seconds} seconds\")"
   ]
  },
  {
   "cell_type": "markdown",
   "id": "f1b40123-6f91-4cd6-9c76-1b19cfcf5176",
   "metadata": {},
   "source": [
    "## Use in App Development\n",
    "\n",
    "The `session` object can now be used to make requests to the SpatiaFi API, and will automatically refresh the access token when needed.\n",
    "\n",
    "**Note:** If you are using the SpatiaFi API in Python or a Jupyter Notebook, you can skip this tutorial and use the [SpatiaFi Python Library](https://github.com/climateengine/py-spatiafi)"
   ]
  }
 ],
 "metadata": {
  "kernelspec": {
   "display_name": "Python 3 (ipykernel)",
   "language": "python",
   "name": "python3"
  },
  "language_info": {
   "codemirror_mode": {
    "name": "ipython",
    "version": 3
   },
   "file_extension": ".py",
   "mimetype": "text/x-python",
   "name": "python",
   "nbconvert_exporter": "python",
   "pygments_lexer": "ipython3",
   "version": "3.10.6"
  }
 },
 "nbformat": 4,
 "nbformat_minor": 5
}
