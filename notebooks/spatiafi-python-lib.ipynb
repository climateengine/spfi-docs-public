{
 "cells": [
  {
   "cell_type": "markdown",
   "id": "6af2cbfc-50a6-4345-9227-497dea4047e8",
   "metadata": {},
   "source": [
    "# Load point values\n",
    "\n",
    "This is a demo that queries a list of points and orders by risk according to Wildfire Risk based on the [Wildfire Forecast](https://data.spatiafi.com/dataset/36) dataset.  We start by loading our App Credentials, and then using the [point](https://docs.spatiafi.com/api/#operation/point_api_point__lon___lat__get) endpoint to fetch fire risk values at the points of interest.\n",
    "\n",
    "---\n",
    "\n",
    "Install `spatiafi` (if not already installed):"
   ]
  },
  {
   "cell_type": "code",
   "execution_count": null,
   "id": "4c5e33de-df46-4b4c-9e45-cef7d8234dbc",
   "metadata": {
    "tags": []
   },
   "outputs": [],
   "source": [
    "!pip install spatiafi"
   ]
  },
  {
   "cell_type": "code",
   "execution_count": null,
   "id": "0efe9431-453c-4ef8-915d-f98bd806c0c2",
   "metadata": {
    "tags": []
   },
   "outputs": [],
   "source": [
    "import cartopy.crs as ccrs\n",
    "import matplotlib.pyplot as plt\n",
    "import numpy as np\n",
    "import spatiafi\n",
    "import xarray as xr"
   ]
  },
  {
   "cell_type": "code",
   "execution_count": null,
   "id": "9512aebd-413b-4779-854f-f51e6f30c1f3",
   "metadata": {
    "tags": []
   },
   "outputs": [],
   "source": [
    "session = spatiafi.get_session()"
   ]
  },
  {
   "cell_type": "code",
   "execution_count": null,
   "id": "7f8208a5-8ed6-4127-afb3-fe4bc245b349",
   "metadata": {
    "tags": []
   },
   "outputs": [],
   "source": [
    "session"
   ]
  },
  {
   "cell_type": "markdown",
   "id": "8bdd6aa2-7ab6-492b-ba65-9ab4c616bfcd",
   "metadata": {
    "tags": []
   },
   "source": [
    "# NOTEBOOK THAT GETS \n",
    "- POINT VALUE (list of points at risk of __)\n",
    "- POINT VALUE OVER TIME (how that's changing over time for top performer)\n",
    "- LINES (TRANSMISSION LINE/ROAD? take line and dilate convert to thicker polygon)\n",
    "- POLYGONS (SPATIAL AVERAGE)"
   ]
  },
  {
   "cell_type": "markdown",
   "id": "2555580f-c198-4fac-a75f-8594bd9919e5",
   "metadata": {
    "tags": []
   },
   "source": [
    "## Point Value\n",
    "This section takes a list of example asset locations (lats/lons) and queries the day 1 forecast of FWI at each location. This should give us an understanding of the near-term fire risk for our assets"
   ]
  },
  {
   "cell_type": "code",
   "execution_count": null,
   "id": "18de25de-eeab-4e9f-aad4-8ad0aeccde89",
   "metadata": {
    "tags": []
   },
   "outputs": [],
   "source": [
    "lon = [\"-104.18\", \"-92.88\", \"-113.46\", \"-122.33\", \"-74.00\", \"-89.44\", \"25.66\", \"137.41\"]\n",
    "lat = [\"55.48\", \"55.74\", \"56.99\", \"47.61\", \"40.71\", \"31.01\", \"23.41\", \"-24.57\"]\n",
    "\n",
    "values = np.zeros(len(lat))\n",
    "\n",
    "for i in range(len(lon)):\n",
    "    url = \"https://api.spatiafi.com/api/point/\" + lon[i] + \",\" + lat[i]\n",
    "\n",
    "    query = {\"item_id\": \"ce-cfsv2-era5-fwi-forecast-day01\", \"bidx\": \"1\"}\n",
    "\n",
    "    response = session.get(url, params=query)\n",
    "\n",
    "    data = response.json()\n",
    "\n",
    "    values[i] = data[\"values\"][0]\n",
    "\n",
    "    print(data)"
   ]
  },
  {
   "cell_type": "markdown",
   "id": "20288d71-fef6-48ce-a675-99128839f797",
   "metadata": {},
   "source": [
    "We now plot these values so that we can more clearly see which assets are of greatest risk."
   ]
  },
  {
   "cell_type": "code",
   "execution_count": null,
   "id": "0d5a7067-6ac3-4d5f-b9b3-2ea99c6b1d39",
   "metadata": {
    "tags": []
   },
   "outputs": [],
   "source": [
    "lon_double = [float(x) for x in lon]\n",
    "lat_double = [float(x) for x in lat]\n",
    "\n",
    "data = xr.DataArray(values, dims=(\"points\",), coords={\"points\": range(len(values))})\n",
    "\n",
    "# Add latitude and longitude as coordinates\n",
    "data = data.assign_coords(\n",
    "    latitude=(\"points\", lat_double), longitude=(\"points\", lon_double)\n",
    ")\n",
    "\n",
    "fig = plt.figure(figsize=(10, 6))\n",
    "ax = plt.axes(projection=ccrs.PlateCarree())\n",
    "\n",
    "# Plot the data using scatter plot\n",
    "plt.scatter(\n",
    "    data[\"longitude\"],\n",
    "    data[\"latitude\"],\n",
    "    c=data,\n",
    "    cmap=\"viridis\",\n",
    "    transform=ccrs.PlateCarree(),\n",
    ")\n",
    "\n",
    "# Add coastlines\n",
    "ax.coastlines()\n",
    "\n",
    "# Add colorbar and labels\n",
    "# plt.colorbar(label='Values')\n",
    "plt.xlabel(\"Longitude\")\n",
    "plt.ylabel(\"Latitude\")\n",
    "\n",
    "# Show the plot\n",
    "plt.show()"
   ]
  },
  {
   "cell_type": "markdown",
   "id": "021ebcf4-8047-44c3-af64-66f3ff4de135",
   "metadata": {},
   "source": [
    "We can see that the assets with the largest FWI June 12th forecast are in __."
   ]
  },
  {
   "cell_type": "markdown",
   "id": "0b9fe792-f2a2-47e0-91e2-02397476e3be",
   "metadata": {},
   "source": [
    "## Point Values Over Time\n",
    "We now include an example that queries timeseries from the same point values. This function can be used to, for example, track trends in the FWI to see if there will be assets we should be concerned about in a few days' time."
   ]
  },
  {
   "cell_type": "code",
   "execution_count": null,
   "id": "053cc362-c45f-4db0-be42-9073240d1d38",
   "metadata": {
    "tags": []
   },
   "outputs": [],
   "source": [
    "for i in range(len(lon)):\n",
    "    url = \"https://api.spatiafi.com/api/timeseries/point/\" + lon[i] + \",\" + lat[i]\n",
    "\n",
    "    query = {\n",
    "        \"coll_id\": \"climate-engine-cfsv2-era5-land-fire-weather-index-forecasts\",\n",
    "        \"datetime\": \"2023-06-11/2023-06-15\",\n",
    "        \"bidx\": \"1\",\n",
    "    }\n",
    "\n",
    "    response = session.get(url, params=query)\n",
    "\n",
    "    data = response.json()\n",
    "\n",
    "    all_values = []\n",
    "    for key in data:\n",
    "        all_values.extend(data[key][\"values\"])\n",
    "\n",
    "    # Convert the list of values to a NumPy array\n",
    "    values_array = np.array(all_values)\n",
    "\n",
    "    # Print the array\n",
    "    print(values_array)"
   ]
  },
  {
   "cell_type": "code",
   "execution_count": null,
   "id": "4b4a730e-4b96-4adb-8b7d-a70d7ce45d2d",
   "metadata": {},
   "outputs": [],
   "source": [
    "# SET VALUES LESS THAN 1 TO 0, LESS THAN 10 TO 1, LESS THAN 30 TO 2, LESS THAN 75 TO 3, GREATER THAN 75 TO 4"
   ]
  },
  {
   "cell_type": "code",
   "execution_count": null,
   "id": "76f2595d-53c6-4442-96ad-5c5eeaf0e50c",
   "metadata": {},
   "outputs": [],
   "source": []
  }
 ],
 "metadata": {
  "kernelspec": {
   "display_name": "Python 3 (ipykernel)",
   "language": "python",
   "name": "python3"
  },
  "language_info": {
   "codemirror_mode": {
    "name": "ipython",
    "version": 3
   },
   "file_extension": ".py",
   "mimetype": "text/x-python",
   "name": "python",
   "nbconvert_exporter": "python",
   "pygments_lexer": "ipython3",
   "version": "3.10.6"
  }
 },
 "nbformat": 4,
 "nbformat_minor": 5
}
