{
 "cells": [
  {
   "cell_type": "code",
   "execution_count": null,
   "id": "4c5e33de-df46-4b4c-9e45-cef7d8234dbc",
   "metadata": {
    "tags": []
   },
   "outputs": [],
   "source": [
    "!pip install spatiafi"
   ]
  },
  {
   "cell_type": "code",
   "execution_count": null,
   "id": "0efe9431-453c-4ef8-915d-f98bd806c0c2",
   "metadata": {
    "tags": []
   },
   "outputs": [],
   "source": [
    "import spatiafi"
   ]
  },
  {
   "cell_type": "code",
   "execution_count": null,
   "id": "9512aebd-413b-4779-854f-f51e6f30c1f3",
   "metadata": {
    "tags": []
   },
   "outputs": [],
   "source": [
    "session = spatiafi.get_session()"
   ]
  },
  {
   "cell_type": "code",
   "execution_count": null,
   "id": "7f8208a5-8ed6-4127-afb3-fe4bc245b349",
   "metadata": {
    "tags": []
   },
   "outputs": [],
   "source": [
    "session"
   ]
  },
  {
   "cell_type": "code",
   "execution_count": null,
   "id": "9a28d0e8-bbac-48eb-a978-c7dea4c7f26d",
   "metadata": {
    "tags": []
   },
   "outputs": [],
   "source": [
    "url = \"https://api.spatiafi.com/api/image/crop\"\n",
    "\n",
    "params = {\n",
    "    \"format\": \"png\",\n",
    "    \"item_id\": \"ce-extreme-heat-risk-current-global-v1.0\",\n",
    "    \"bidx\": \"1\",\n",
    "    \"rescale\": \"0,4\",  # this dataset has a range of values between 0-4, so we rescale the gray values to better see the image.\n",
    "}\n",
    "\n",
    "# North Saudi Arabia\n",
    "payload = {\n",
    "    \"type\": \"Feature\",\n",
    "    \"properties\": {},\n",
    "    \"geometry\": {\n",
    "        \"coordinates\": [\n",
    "            [\n",
    "                [31.76491069149293, 32.29986592075784],\n",
    "                [31.76491069149293, 23.092931581000542],\n",
    "                [51.58140483659537, 23.092931581000542],\n",
    "                [51.58140483659537, 32.29986592075784],\n",
    "                [31.76491069149293, 32.29986592075784],\n",
    "            ]\n",
    "        ],\n",
    "        \"type\": \"Polygon\",\n",
    "    },\n",
    "}\n",
    "\n",
    "# `POST` the request using our `session` object, which will automatically handle authentication.\n",
    "response = session.post(url, json=payload, params=params)"
   ]
  },
  {
   "cell_type": "markdown",
   "id": "8bdd6aa2-7ab6-492b-ba65-9ab4c616bfcd",
   "metadata": {
    "tags": []
   },
   "source": [
    "# NOTEBOOK THAT GETS \n",
    "- POINT VALUE (list of points at risk of __)\n",
    "- POINT VALUE OVER TIME (how that's changing over time for top performer)\n",
    "- LINES (TRANSMISSION LINE/ROAD? take line and dilate convert to thicker polygon)\n",
    "- POLYGONS (SPATIAL AVERAGE)"
   ]
  },
  {
   "cell_type": "code",
   "execution_count": null,
   "id": "18de25de-eeab-4e9f-aad4-8ad0aeccde89",
   "metadata": {
    "tags": []
   },
   "outputs": [],
   "source": [
    "lat = \"51.58140483659537\"\n",
    "lon = \"23.092931581000542\"\n",
    "url = \"https://api.spatiafi.com/api/point/\" + lon + \",\" + lat\n",
    "\n",
    "query = {\n",
    "    \"item_id\": \"ce-extreme-heat-risk-current-global-v1.0\",\n",
    "}\n",
    "\n",
    "response = session.get(url, params=query)\n",
    "\n",
    "data = response.json()\n",
    "print(data)"
   ]
  },
  {
   "cell_type": "code",
   "execution_count": null,
   "id": "053cc362-c45f-4db0-be42-9073240d1d38",
   "metadata": {
    "tags": []
   },
   "outputs": [],
   "source": [
    "response.text"
   ]
  },
  {
   "cell_type": "code",
   "execution_count": null,
   "id": "b6a58d29-7e20-4148-b83b-87cac7c76a8a",
   "metadata": {},
   "outputs": [],
   "source": [
    "# url = \"https://api.spatiafi.com/api/timeseries/timesteps\"\n",
    "\n",
    "# query = {\"coll_id\": \"string\", \"datetime\": \"string\"}\n",
    "\n",
    "# headers = {\"Authorization\": \"Bearer <YOUR_TOKEN_HERE>\"}\n",
    "\n",
    "# response = requests.get(url, headers=headers, params=query)\n",
    "\n",
    "# data = response.json()\n",
    "# print(data)"
   ]
  }
 ],
 "metadata": {
  "kernelspec": {
   "display_name": "Python 3 (ipykernel)",
   "language": "python",
   "name": "python3"
  },
  "language_info": {
   "codemirror_mode": {
    "name": "ipython",
    "version": 3
   },
   "file_extension": ".py",
   "mimetype": "text/x-python",
   "name": "python",
   "nbconvert_exporter": "python",
   "pygments_lexer": "ipython3",
   "version": "3.10.6"
  }
 },
 "nbformat": 4,
 "nbformat_minor": 5
}
